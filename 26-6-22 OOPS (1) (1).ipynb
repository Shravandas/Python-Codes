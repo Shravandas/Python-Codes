{
 "cells": [
  {
   "cell_type": "markdown",
   "id": "dbc0eff8",
   "metadata": {},
   "source": [
    "## OOPS -> Object Oriented Programming in Python"
   ]
  },
  {
   "cell_type": "markdown",
   "id": "301fcf27",
   "metadata": {},
   "source": [
    "## Agenda\n",
    "-> Introduction\n",
    "\n",
    "-> Classes\n",
    "\n",
    "-> Objects\n",
    "\n",
    "-> Constructor\n",
    "\n",
    "-> Inheritance\n",
    "\n",
    "-> Polymorphism\n",
    "\n",
    "-> Encapsulation"
   ]
  },
  {
   "cell_type": "markdown",
   "id": "9c5bfcab",
   "metadata": {},
   "source": [
    "## Introduction to OOPS"
   ]
  },
  {
   "cell_type": "code",
   "execution_count": null,
   "id": "bd33b91d",
   "metadata": {},
   "outputs": [],
   "source": [
    "# Python is a general purpose programming language which supports both OOP and POP\n",
    "# OOP-> code is implemented using the concepts of classes and objects\n",
    "# POP-> code is implemented using the concept of function\n",
    "# numpy, pandas, matplotlib -> functions\n",
    "# Differences between  \n",
    "#            OOP                      and                   POP\n",
    "# object oriented                                          structure oriented\n",
    "# objects are building blocks                              functions \n",
    "# inheritance is used                                      not used\n",
    "# polymorphism is used                                     not used\n",
    "# encapsulation is used                                    not used\n",
    "# C++, Java, Python                                        C, Pascal"
   ]
  },
  {
   "cell_type": "markdown",
   "id": "fac7103e",
   "metadata": {},
   "source": [
    "## Class"
   ]
  },
  {
   "cell_type": "markdown",
   "id": "eed65ea6",
   "metadata": {},
   "source": [
    "-> group of similar items\n",
    "\n",
    "-> a class provides a template or blueprint that describes the structure and behaviour of similar\n",
    "set of objects\n",
    "\n",
    "-> is a blueprint which contains a group of functions in a single memory location\n",
    "\n",
    "-> logical entity that contains some attributes and methods\n",
    "\n",
    "-> attributes-> variables that belong to a class\n",
    "\n",
    "-> methods-> functions that belong to a class\n",
    "\n",
    "  "
   ]
  },
  {
   "cell_type": "code",
   "execution_count": null,
   "id": "e351e7be",
   "metadata": {},
   "outputs": [],
   "source": [
    " Functions                                          Methods\n",
    "#-> block of code that is called independently      method is also called by its name, but it is                                                     associated with object(dependent)\n",
    "                                                    # associated with object(dependent)\n",
    "#-> can have different parameters                   self should be the first parameter always  \n",
    "\n",
    "#-> it has nothing to do with classes and           # can access the data present inside a class\n",
    "#   objects"
   ]
  },
  {
   "cell_type": "markdown",
   "id": "63e17b58",
   "metadata": {},
   "source": [
    "## Objects"
   ]
  },
  {
   "cell_type": "markdown",
   "id": "841804ce",
   "metadata": {},
   "source": [
    "-> instance of a class\n",
    "\n",
    "-> a real world entity that will be having certain behaviour, identity and state\n",
    "\n",
    "-> State: represented by the attribute\n",
    "\n",
    "-> Behaviour: represented by the method\n",
    "\n",
    "-> Identity: gives the unique name to an object"
   ]
  },
  {
   "cell_type": "code",
   "execution_count": null,
   "id": "d5b320cc",
   "metadata": {},
   "outputs": [],
   "source": [
    "# Class-> Dogs             \n",
    "# features -> attributes\n",
    "# action/behaviour -> methods\n",
    "# Dog1-> Max ->   breed=lab , color=golden , age=2 , gender=male  eat(), sleep(), bark(), fast()\n",
    "# Dog2-> Daisy->  breed=pom , color=white , age=1 , gender=female"
   ]
  },
  {
   "cell_type": "code",
   "execution_count": null,
   "id": "fa0b93c2",
   "metadata": {},
   "outputs": [],
   "source": [
    "# Class-> Indian Cricket Team\n",
    "# attributes-> score, strike rate, age, wickets,height, number_matches\n",
    "# methods-> test cricket(), t20(), worldcup()\n",
    "# Player1= VK\n",
    "# Player2= MSD"
   ]
  },
  {
   "cell_type": "code",
   "execution_count": null,
   "id": "cd2c77a7",
   "metadata": {},
   "outputs": [],
   "source": [
    "# Syntax:\n",
    "# CREATING A CLASS\n",
    "# class classname():\n",
    "#      statements\n",
    "\n",
    "# CREATING AN OBJECT\n",
    "# object_name=classname(values for attributes)\n",
    "\n",
    "# CREATE A METHOD\n",
    "# def methodname(self,arguments):\n",
    "#         statements\n",
    "\n",
    "# INVOKE A METHOD\n",
    "# objectname.methodname(value foe arguments)"
   ]
  },
  {
   "cell_type": "code",
   "execution_count": 2,
   "id": "f96ee922",
   "metadata": {},
   "outputs": [],
   "source": [
    "class demo:\n",
    "    x='hi'    # global variable\n",
    "    def addition(self,a,b):\n",
    "        y='hello'   # local variable\n",
    "        print(y)\n",
    "        return a+b"
   ]
  },
  {
   "cell_type": "code",
   "execution_count": 3,
   "id": "58cc9269",
   "metadata": {},
   "outputs": [
    {
     "ename": "NameError",
     "evalue": "name 'x' is not defined",
     "output_type": "error",
     "traceback": [
      "\u001b[1;31m---------------------------------------------------------------------------\u001b[0m",
      "\u001b[1;31mNameError\u001b[0m                                 Traceback (most recent call last)",
      "\u001b[1;32m<ipython-input-3-fc17d851ef81>\u001b[0m in \u001b[0;36m<module>\u001b[1;34m\u001b[0m\n\u001b[1;32m----> 1\u001b[1;33m \u001b[0mprint\u001b[0m\u001b[1;33m(\u001b[0m\u001b[0mx\u001b[0m\u001b[1;33m)\u001b[0m\u001b[1;33m\u001b[0m\u001b[1;33m\u001b[0m\u001b[0m\n\u001b[0m",
      "\u001b[1;31mNameError\u001b[0m: name 'x' is not defined"
     ]
    }
   ],
   "source": [
    "print(x)"
   ]
  },
  {
   "cell_type": "code",
   "execution_count": 4,
   "id": "b90e8d1c",
   "metadata": {},
   "outputs": [
    {
     "data": {
      "text/plain": [
       "'hi'"
      ]
     },
     "execution_count": 4,
     "metadata": {},
     "output_type": "execute_result"
    }
   ],
   "source": [
    "demo.x"
   ]
  },
  {
   "cell_type": "code",
   "execution_count": 5,
   "id": "ef7c121b",
   "metadata": {},
   "outputs": [
    {
     "ename": "AttributeError",
     "evalue": "type object 'demo' has no attribute 'y'",
     "output_type": "error",
     "traceback": [
      "\u001b[1;31m---------------------------------------------------------------------------\u001b[0m",
      "\u001b[1;31mAttributeError\u001b[0m                            Traceback (most recent call last)",
      "\u001b[1;32m<ipython-input-5-dcdae611a433>\u001b[0m in \u001b[0;36m<module>\u001b[1;34m\u001b[0m\n\u001b[1;32m----> 1\u001b[1;33m \u001b[0mdemo\u001b[0m\u001b[1;33m.\u001b[0m\u001b[0my\u001b[0m\u001b[1;33m\u001b[0m\u001b[1;33m\u001b[0m\u001b[0m\n\u001b[0m",
      "\u001b[1;31mAttributeError\u001b[0m: type object 'demo' has no attribute 'y'"
     ]
    }
   ],
   "source": [
    "demo.y"
   ]
  },
  {
   "cell_type": "code",
   "execution_count": 8,
   "id": "59d8883b",
   "metadata": {},
   "outputs": [
    {
     "ename": "NameError",
     "evalue": "name 'addition' is not defined",
     "output_type": "error",
     "traceback": [
      "\u001b[1;31m---------------------------------------------------------------------------\u001b[0m",
      "\u001b[1;31mNameError\u001b[0m                                 Traceback (most recent call last)",
      "\u001b[1;32m<ipython-input-8-917058a1da2d>\u001b[0m in \u001b[0;36m<module>\u001b[1;34m\u001b[0m\n\u001b[1;32m----> 1\u001b[1;33m \u001b[0maddition\u001b[0m\u001b[1;33m(\u001b[0m\u001b[1;36m10\u001b[0m\u001b[1;33m,\u001b[0m\u001b[1;36m20\u001b[0m\u001b[1;33m)\u001b[0m\u001b[1;33m\u001b[0m\u001b[1;33m\u001b[0m\u001b[0m\n\u001b[0m",
      "\u001b[1;31mNameError\u001b[0m: name 'addition' is not defined"
     ]
    }
   ],
   "source": [
    "addition(10,20)"
   ]
  },
  {
   "cell_type": "code",
   "execution_count": 9,
   "id": "4d181be8",
   "metadata": {},
   "outputs": [],
   "source": [
    "obj1=demo()"
   ]
  },
  {
   "cell_type": "code",
   "execution_count": 12,
   "id": "1e584a69",
   "metadata": {},
   "outputs": [
    {
     "name": "stdout",
     "output_type": "stream",
     "text": [
      "hello\n"
     ]
    },
    {
     "data": {
      "text/plain": [
       "15"
      ]
     },
     "execution_count": 12,
     "metadata": {},
     "output_type": "execute_result"
    }
   ],
   "source": [
    "obj1.addition(12,3)"
   ]
  },
  {
   "cell_type": "code",
   "execution_count": 13,
   "id": "b784e0ba",
   "metadata": {},
   "outputs": [
    {
     "ename": "AttributeError",
     "evalue": "'demo' object has no attribute 'y'",
     "output_type": "error",
     "traceback": [
      "\u001b[1;31m---------------------------------------------------------------------------\u001b[0m",
      "\u001b[1;31mAttributeError\u001b[0m                            Traceback (most recent call last)",
      "\u001b[1;32m<ipython-input-13-3d6236fe0ce2>\u001b[0m in \u001b[0;36m<module>\u001b[1;34m\u001b[0m\n\u001b[1;32m----> 1\u001b[1;33m \u001b[0mobj1\u001b[0m\u001b[1;33m.\u001b[0m\u001b[0my\u001b[0m\u001b[1;33m\u001b[0m\u001b[1;33m\u001b[0m\u001b[0m\n\u001b[0m",
      "\u001b[1;31mAttributeError\u001b[0m: 'demo' object has no attribute 'y'"
     ]
    }
   ],
   "source": [
    "obj1.y"
   ]
  },
  {
   "cell_type": "code",
   "execution_count": 22,
   "id": "aa57fab7",
   "metadata": {},
   "outputs": [
    {
     "ename": "NameError",
     "evalue": "name 'p' is not defined",
     "output_type": "error",
     "traceback": [
      "\u001b[1;31m---------------------------------------------------------------------------\u001b[0m",
      "\u001b[1;31mNameError\u001b[0m                                 Traceback (most recent call last)",
      "\u001b[1;32m<ipython-input-22-5131fdcdbde8>\u001b[0m in \u001b[0;36m<module>\u001b[1;34m\u001b[0m\n\u001b[0;32m     11\u001b[0m         \u001b[0mm\u001b[0m\u001b[1;33m=\u001b[0m\u001b[0mb\u001b[0m\u001b[1;33m*\u001b[0m\u001b[0mself\u001b[0m\u001b[1;33m.\u001b[0m\u001b[0mp\u001b[0m\u001b[1;33m\u001b[0m\u001b[1;33m\u001b[0m\u001b[0m\n\u001b[0;32m     12\u001b[0m         \u001b[1;32mreturn\u001b[0m \u001b[0mm\u001b[0m\u001b[1;33m\u001b[0m\u001b[1;33m\u001b[0m\u001b[0m\n\u001b[1;32m---> 13\u001b[1;33m \u001b[0mprint\u001b[0m\u001b[1;33m(\u001b[0m\u001b[0mp\u001b[0m\u001b[1;33m)\u001b[0m\u001b[1;33m\u001b[0m\u001b[1;33m\u001b[0m\u001b[0m\n\u001b[0m",
      "\u001b[1;31mNameError\u001b[0m: name 'p' is not defined"
     ]
    }
   ],
   "source": [
    "# Local environment and Global environment\n",
    "class xyz:\n",
    "    p=20\n",
    "    q=30\n",
    "    def details(self):\n",
    "        print('The value of p:',self.p)\n",
    "    def fun1(self,a):\n",
    "        s=a+self.p\n",
    "        return s\n",
    "    def fun2(self,b):\n",
    "        m=b*self.p\n",
    "        return m    "
   ]
  },
  {
   "cell_type": "code",
   "execution_count": 16,
   "id": "982637c5",
   "metadata": {},
   "outputs": [],
   "source": [
    "o1=xyz()"
   ]
  },
  {
   "cell_type": "code",
   "execution_count": 17,
   "id": "8b17d049",
   "metadata": {},
   "outputs": [
    {
     "data": {
      "text/plain": [
       "120"
      ]
     },
     "execution_count": 17,
     "metadata": {},
     "output_type": "execute_result"
    }
   ],
   "source": [
    "o1.fun1(100)"
   ]
  },
  {
   "cell_type": "code",
   "execution_count": 18,
   "id": "2362103b",
   "metadata": {},
   "outputs": [
    {
     "data": {
      "text/plain": [
       "1800"
      ]
     },
     "execution_count": 18,
     "metadata": {},
     "output_type": "execute_result"
    }
   ],
   "source": [
    "o1.fun2(90)"
   ]
  },
  {
   "cell_type": "code",
   "execution_count": 19,
   "id": "a750cc7a",
   "metadata": {},
   "outputs": [
    {
     "data": {
      "text/plain": [
       "20"
      ]
     },
     "execution_count": 19,
     "metadata": {},
     "output_type": "execute_result"
    }
   ],
   "source": [
    "xyz.p"
   ]
  },
  {
   "cell_type": "code",
   "execution_count": 21,
   "id": "af12a37b",
   "metadata": {
    "scrolled": true
   },
   "outputs": [
    {
     "ename": "AttributeError",
     "evalue": "type object 'xyz' has no attribute 'm'",
     "output_type": "error",
     "traceback": [
      "\u001b[1;31m---------------------------------------------------------------------------\u001b[0m",
      "\u001b[1;31mAttributeError\u001b[0m                            Traceback (most recent call last)",
      "\u001b[1;32m<ipython-input-21-f4bd96d78531>\u001b[0m in \u001b[0;36m<module>\u001b[1;34m\u001b[0m\n\u001b[1;32m----> 1\u001b[1;33m \u001b[0mxyz\u001b[0m\u001b[1;33m.\u001b[0m\u001b[0mm\u001b[0m\u001b[1;33m\u001b[0m\u001b[1;33m\u001b[0m\u001b[0m\n\u001b[0m",
      "\u001b[1;31mAttributeError\u001b[0m: type object 'xyz' has no attribute 'm'"
     ]
    }
   ],
   "source": [
    "xyz.m"
   ]
  },
  {
   "cell_type": "code",
   "execution_count": 23,
   "id": "109252d4",
   "metadata": {},
   "outputs": [
    {
     "ename": "TypeError",
     "evalue": "f1() missing 1 required positional argument: 'b'",
     "output_type": "error",
     "traceback": [
      "\u001b[1;31m---------------------------------------------------------------------------\u001b[0m",
      "\u001b[1;31mTypeError\u001b[0m                                 Traceback (most recent call last)",
      "\u001b[1;32m<ipython-input-23-d8da6905261e>\u001b[0m in \u001b[0;36m<module>\u001b[1;34m\u001b[0m\n\u001b[0;32m      2\u001b[0m     \u001b[0mprint\u001b[0m\u001b[1;33m(\u001b[0m\u001b[0ma\u001b[0m\u001b[1;33m)\u001b[0m\u001b[1;33m\u001b[0m\u001b[1;33m\u001b[0m\u001b[0m\n\u001b[0;32m      3\u001b[0m     \u001b[0mprint\u001b[0m\u001b[1;33m(\u001b[0m\u001b[0mb\u001b[0m\u001b[1;33m)\u001b[0m\u001b[1;33m\u001b[0m\u001b[1;33m\u001b[0m\u001b[0m\n\u001b[1;32m----> 4\u001b[1;33m \u001b[0mf1\u001b[0m\u001b[1;33m(\u001b[0m\u001b[1;36m10\u001b[0m\u001b[1;33m)\u001b[0m\u001b[1;33m\u001b[0m\u001b[1;33m\u001b[0m\u001b[0m\n\u001b[0m",
      "\u001b[1;31mTypeError\u001b[0m: f1() missing 1 required positional argument: 'b'"
     ]
    }
   ],
   "source": [
    "def f1(a,b):\n",
    "    print(a)\n",
    "    print(b)\n",
    "f1(10)    "
   ]
  },
  {
   "cell_type": "markdown",
   "id": "c2137212",
   "metadata": {},
   "source": [
    "### Self"
   ]
  },
  {
   "cell_type": "markdown",
   "id": "227a880e",
   "metadata": {},
   "source": [
    "-> the first parameter inside a method definition\n",
    "\n",
    "-> it represents the instance of a class\n",
    "\n",
    "-> we can access the attributes and methods of a class using the self\n",
    "\n",
    "-> we dont have to provide value for self parameter, python provides it as it will be a reference\n",
    "\n",
    "-> if we have a method that takes no arguments still one arguments will be accepted i.e, self"
   ]
  },
  {
   "cell_type": "markdown",
   "id": "764bb9cc",
   "metadata": {},
   "source": [
    "## Constructor"
   ]
  },
  {
   "cell_type": "markdown",
   "id": "bd58ed0d",
   "metadata": {},
   "source": [
    "-> used for instantiating an object\n",
    "\n",
    "-> to initialize(assign values) the data members of the class when an object created\n",
    "\n",
    "-> #In python __init__() method is called the constructor , used to initialize attributes\n",
    "\n",
    "-> It will be automatically called whenever an object is created for the class"
   ]
  },
  {
   "cell_type": "code",
   "execution_count": 35,
   "id": "d7f6c1df",
   "metadata": {},
   "outputs": [],
   "source": [
    "class dogs:\n",
    "    def __init__(self,breed,color,age,gender):\n",
    "        self.breed=breed\n",
    "        self.color=color\n",
    "        self.age=age\n",
    "        self.gender=gender\n",
    "        print('Constructor is being called')\n",
    "      \n",
    "    def eat(self):\n",
    "        print(self.breed)\n",
    "        print(self.breed,'is eating')\n",
    "        \n",
    "    def sleep(self):\n",
    "        print(self.breed)\n",
    "        print(self.color)\n",
    "        print(self.breed,'with color',self.color,'is sleeping')    "
   ]
  },
  {
   "cell_type": "code",
   "execution_count": 36,
   "id": "20f0508d",
   "metadata": {},
   "outputs": [
    {
     "name": "stdout",
     "output_type": "stream",
     "text": [
      "I got a conifrmation\n"
     ]
    }
   ],
   "source": [
    "Max=dogs('lab','golden',2,'male')"
   ]
  },
  {
   "cell_type": "code",
   "execution_count": 30,
   "id": "57ffda76",
   "metadata": {},
   "outputs": [
    {
     "name": "stdout",
     "output_type": "stream",
     "text": [
      "lab\n",
      "lab is eating\n"
     ]
    }
   ],
   "source": [
    "Max.eat()"
   ]
  },
  {
   "cell_type": "code",
   "execution_count": 31,
   "id": "bd7a1817",
   "metadata": {},
   "outputs": [
    {
     "name": "stdout",
     "output_type": "stream",
     "text": [
      "lab\n",
      "golden\n",
      "lab with color golden is sleeping\n"
     ]
    }
   ],
   "source": [
    "Max.sleep()"
   ]
  },
  {
   "cell_type": "code",
   "execution_count": 32,
   "id": "fac48f74",
   "metadata": {},
   "outputs": [
    {
     "name": "stdout",
     "output_type": "stream",
     "text": [
      "constructor is being called\n"
     ]
    }
   ],
   "source": [
    "Daisy=dogs('pom','white',1,'female')"
   ]
  },
  {
   "cell_type": "code",
   "execution_count": 33,
   "id": "0568bf86",
   "metadata": {},
   "outputs": [
    {
     "name": "stdout",
     "output_type": "stream",
     "text": [
      "pom\n",
      "pom is eating\n"
     ]
    }
   ],
   "source": [
    "Daisy.eat()"
   ]
  },
  {
   "cell_type": "code",
   "execution_count": 34,
   "id": "a7ab26cd",
   "metadata": {
    "scrolled": true
   },
   "outputs": [
    {
     "name": "stdout",
     "output_type": "stream",
     "text": [
      "pom\n",
      "white\n",
      "pom with color white is sleeping\n"
     ]
    }
   ],
   "source": [
    "Daisy.sleep()"
   ]
  },
  {
   "cell_type": "code",
   "execution_count": null,
   "id": "5e07dfaf",
   "metadata": {},
   "outputs": [],
   "source": []
  },
  {
   "cell_type": "markdown",
   "id": "008b40b8",
   "metadata": {},
   "source": [
    "## Inheritance"
   ]
  },
  {
   "cell_type": "markdown",
   "id": "234dd2d9",
   "metadata": {},
   "source": [
    "-> Capability of one class to derive or inherit the properties from an other class\n",
    "\n",
    "-> The class which derives the properties is called child class or derived class\n",
    "\n",
    "-> The class from which the properties are being derived is called a parent or base class\n",
    "\n",
    "-> While inheriting,the object is always created for the child class\n",
    "\n",
    "-> In inheritance, we should invoke the __init__method present in the parent class inside child \n",
    "class constructor:  \n",
    "    Syntax: parentclassname.__init__(parameters)\n",
    "        \n",
    "-> Benefits:\n",
    "\n",
    "    * it represents real world relationships\n",
    "    \n",
    "    * reusability of the code\n",
    "    \n",
    "    * transitive in nature\n",
    "    \n",
    "    * helps to add new features to the existing class"
   ]
  },
  {
   "cell_type": "code",
   "execution_count": null,
   "id": "cecbcedb",
   "metadata": {},
   "outputs": [],
   "source": [
    "# Syntax:\n",
    "# class childclassname(parentclassname):\n",
    "     # statements"
   ]
  },
  {
   "cell_type": "code",
   "execution_count": 11,
   "id": "d33de664",
   "metadata": {},
   "outputs": [],
   "source": [
    "# parent class\n",
    "class person:\n",
    "    def __init__(self,name,id_num):\n",
    "        self.name=name\n",
    "        self.id_num=id_num\n",
    "    \n",
    "    def display(self):\n",
    "        print(self.name,self.id_num)\n",
    "     \n",
    "    def details1(self):\n",
    "        print('My name is:', self.name)\n",
    "        print('The ID number is:',self.id_num)"
   ]
  },
  {
   "cell_type": "code",
   "execution_count": 12,
   "id": "656df2d6",
   "metadata": {},
   "outputs": [],
   "source": [
    "# child class\n",
    "class employee(person):\n",
    "    def __init__(self,name,id_num,salary,post,companyname):\n",
    "        self.salary=salary\n",
    "        self.post=post\n",
    "        self.companyname=companyname\n",
    "        person.__init__(self,name,id_num)\n",
    "        \n",
    "    def details(self):\n",
    "        print('My name is:',self.name)\n",
    "        print('The ID number is',self.id_num)\n",
    "        print('My salary is:',self.salary)\n",
    "        print('My post is:', self.post)\n",
    "        print('My company is:', self.companyname)"
   ]
  },
  {
   "cell_type": "code",
   "execution_count": 13,
   "id": "1a676f21",
   "metadata": {},
   "outputs": [],
   "source": [
    "e1=employee('Adi',1127,40000,'Intern','Intellipaat')"
   ]
  },
  {
   "cell_type": "code",
   "execution_count": 14,
   "id": "d994e534",
   "metadata": {
    "scrolled": true
   },
   "outputs": [
    {
     "name": "stdout",
     "output_type": "stream",
     "text": [
      "Adi 1127\n"
     ]
    }
   ],
   "source": [
    "e1.display()"
   ]
  },
  {
   "cell_type": "code",
   "execution_count": 15,
   "id": "eb2a90aa",
   "metadata": {},
   "outputs": [
    {
     "name": "stdout",
     "output_type": "stream",
     "text": [
      "My name is: Adi\n",
      "The ID number is: 1127\n"
     ]
    }
   ],
   "source": [
    "e1.details1()"
   ]
  },
  {
   "cell_type": "code",
   "execution_count": 6,
   "id": "b056d185",
   "metadata": {},
   "outputs": [
    {
     "name": "stdout",
     "output_type": "stream",
     "text": [
      "My name is: Adi\n",
      "The ID number is 1127\n",
      "My salary is: 40000\n",
      "My post is: Intern\n",
      "My company is: Intellipaat\n"
     ]
    }
   ],
   "source": [
    "e1.details()"
   ]
  },
  {
   "cell_type": "code",
   "execution_count": 9,
   "id": "b64ace8d",
   "metadata": {},
   "outputs": [],
   "source": [
    "e2=employee(['Isha','shreya','sia'],1188,60000,'Manager','TCS')"
   ]
  },
  {
   "cell_type": "code",
   "execution_count": 10,
   "id": "16c4c024",
   "metadata": {},
   "outputs": [
    {
     "name": "stdout",
     "output_type": "stream",
     "text": [
      "My name is: ['Isha', 'shreya', 'sia']\n",
      "The ID number is 1188\n",
      "My salary is: 60000\n",
      "My post is: Manager\n",
      "My company is: TCS\n"
     ]
    }
   ],
   "source": [
    "e2.details()"
   ]
  },
  {
   "cell_type": "markdown",
   "id": "8f95491e",
   "metadata": {},
   "source": [
    "## Types of Inheritance"
   ]
  },
  {
   "cell_type": "markdown",
   "id": "a422fce5",
   "metadata": {},
   "source": [
    "-> Simple inheritance\n",
    "\n",
    "-> Multiple inheritance\n",
    "\n",
    "-> Multilevel inheritance\n",
    "\n",
    "-> Hierarchical inheritance\n",
    "\n",
    "-> Hybrid inheritance\n"
   ]
  },
  {
   "cell_type": "code",
   "execution_count": 16,
   "id": "6b2a810a",
   "metadata": {},
   "outputs": [],
   "source": [
    "# mutiple inheritance-> multiple parent classes, single child class\n",
    "# A-> parent\n",
    "# B-> parent\n",
    "# C-> child\n",
    "\n",
    "class A:\n",
    "    def __init__(self):\n",
    "        print('Class A constructor')\n",
    "    def m1(self):\n",
    "        print('Class A method')"
   ]
  },
  {
   "cell_type": "code",
   "execution_count": 17,
   "id": "6d59534d",
   "metadata": {},
   "outputs": [],
   "source": [
    "class B:\n",
    "    def __init__(self):\n",
    "        print('Class B constructor')\n",
    "    def m2(self):\n",
    "        print('Class B method')"
   ]
  },
  {
   "cell_type": "code",
   "execution_count": 21,
   "id": "bf6729f6",
   "metadata": {},
   "outputs": [],
   "source": [
    "class C(A,B):\n",
    "    def __init__(self):\n",
    "        print('Class C constructor')\n",
    "        A.__init__(self)  # invoking class A constructor\n",
    "        B.__init__(self)  # invoking class B constructor\n",
    "    def m3(self):\n",
    "        #A.m1(self)\n",
    "        #B.m2(self)\n",
    "        print('Class C method')"
   ]
  },
  {
   "cell_type": "code",
   "execution_count": 22,
   "id": "75a8bf56",
   "metadata": {},
   "outputs": [
    {
     "name": "stdout",
     "output_type": "stream",
     "text": [
      "Class C constructor\n",
      "Class A constructor\n",
      "Class B constructor\n"
     ]
    }
   ],
   "source": [
    "c1=C()"
   ]
  },
  {
   "cell_type": "code",
   "execution_count": 23,
   "id": "e67d3ead",
   "metadata": {},
   "outputs": [
    {
     "name": "stdout",
     "output_type": "stream",
     "text": [
      "Class C method\n"
     ]
    }
   ],
   "source": [
    "c1.m3()"
   ]
  },
  {
   "cell_type": "code",
   "execution_count": 24,
   "id": "530d11f8",
   "metadata": {},
   "outputs": [
    {
     "name": "stdout",
     "output_type": "stream",
     "text": [
      "Class B method\n"
     ]
    }
   ],
   "source": [
    "c1.m2()"
   ]
  },
  {
   "cell_type": "code",
   "execution_count": 25,
   "id": "d6fb5eea",
   "metadata": {},
   "outputs": [
    {
     "name": "stdout",
     "output_type": "stream",
     "text": [
      "Class A method\n"
     ]
    }
   ],
   "source": [
    "c1.m1()"
   ]
  },
  {
   "cell_type": "code",
   "execution_count": null,
   "id": "f03bc00d",
   "metadata": {},
   "outputs": [],
   "source": [
    "# multi level inheritance -> Class 1 -> Class 2 -> Class3\n",
    "# Class1 -> Grand parent class\n",
    "# Class 2 -> parent class\n",
    "# Class 3 -> child"
   ]
  },
  {
   "cell_type": "code",
   "execution_count": 26,
   "id": "4ccb340d",
   "metadata": {},
   "outputs": [],
   "source": [
    "class A:\n",
    "    def __init__(self):\n",
    "        print('A class constructor')\n",
    "    def m1(self):\n",
    "        print('A class method')"
   ]
  },
  {
   "cell_type": "code",
   "execution_count": 27,
   "id": "eeee17e4",
   "metadata": {},
   "outputs": [],
   "source": [
    "class B(A):\n",
    "    def __init__(self):\n",
    "        print('B class constructor')\n",
    "    def m2(self):\n",
    "        print('B class method')"
   ]
  },
  {
   "cell_type": "code",
   "execution_count": 28,
   "id": "0416e7d3",
   "metadata": {},
   "outputs": [],
   "source": [
    "class C(B):\n",
    "    def __init__(self):\n",
    "        print('C class constructor')\n",
    "        A.__init__(self)\n",
    "        B.__init__(self)\n",
    "    def m3(self):\n",
    "        A.m1(self)\n",
    "        B.m2(self)\n",
    "        print('C class method')"
   ]
  },
  {
   "cell_type": "code",
   "execution_count": 29,
   "id": "c058b1e8",
   "metadata": {},
   "outputs": [
    {
     "name": "stdout",
     "output_type": "stream",
     "text": [
      "C class constructor\n",
      "A class constructor\n",
      "B class constructor\n"
     ]
    }
   ],
   "source": [
    "obj1=C()"
   ]
  },
  {
   "cell_type": "code",
   "execution_count": 30,
   "id": "54849546",
   "metadata": {},
   "outputs": [
    {
     "name": "stdout",
     "output_type": "stream",
     "text": [
      "B class constructor\n"
     ]
    }
   ],
   "source": [
    "obj2=B()"
   ]
  },
  {
   "cell_type": "code",
   "execution_count": 31,
   "id": "51ad399d",
   "metadata": {},
   "outputs": [
    {
     "name": "stdout",
     "output_type": "stream",
     "text": [
      "A class method\n",
      "B class method\n",
      "C class method\n"
     ]
    }
   ],
   "source": [
    "obj1.m3()"
   ]
  },
  {
   "cell_type": "code",
   "execution_count": 32,
   "id": "3d46d9fc",
   "metadata": {},
   "outputs": [
    {
     "name": "stdout",
     "output_type": "stream",
     "text": [
      "B class method\n"
     ]
    }
   ],
   "source": [
    "obj1.m2()"
   ]
  },
  {
   "cell_type": "raw",
   "id": "64e861f0",
   "metadata": {},
   "source": [
    "obj1.m1()"
   ]
  },
  {
   "cell_type": "markdown",
   "id": "ebeea8cf",
   "metadata": {},
   "source": [
    "## Polymorphism"
   ]
  },
  {
   "cell_type": "markdown",
   "id": "941a890c",
   "metadata": {},
   "source": [
    "-> poly=many morph=forms\n",
    "\n",
    "-> function or method with the same name but different signatures(number of parameters, implementation)\n",
    "\n",
    "-> Method overloading(Python doesnt support)-> one or more methods of the same class sharing the same name but having different number of parameters\n",
    "\n",
    "-> Method overriding-> same method name with same number of parameters but re-implemented"
   ]
  },
  {
   "cell_type": "code",
   "execution_count": 38,
   "id": "91d82fef",
   "metadata": {},
   "outputs": [],
   "source": [
    "# Method overloading\n",
    "class add:\n",
    "    def m1(self,a,b,c):\n",
    "        return a+b+c\n",
    "    def m1(self,a,b):\n",
    "        return a+b"
   ]
  },
  {
   "cell_type": "code",
   "execution_count": 39,
   "id": "9d5a212a",
   "metadata": {},
   "outputs": [],
   "source": [
    "obj1=add()"
   ]
  },
  {
   "cell_type": "code",
   "execution_count": 40,
   "id": "50df7303",
   "metadata": {},
   "outputs": [
    {
     "data": {
      "text/plain": [
       "13"
      ]
     },
     "execution_count": 40,
     "metadata": {},
     "output_type": "execute_result"
    }
   ],
   "source": [
    "obj1.m1(11,2)"
   ]
  },
  {
   "cell_type": "code",
   "execution_count": 41,
   "id": "0d2fd2c7",
   "metadata": {},
   "outputs": [
    {
     "ename": "TypeError",
     "evalue": "m1() takes 3 positional arguments but 4 were given",
     "output_type": "error",
     "traceback": [
      "\u001b[1;31m---------------------------------------------------------------------------\u001b[0m",
      "\u001b[1;31mTypeError\u001b[0m                                 Traceback (most recent call last)",
      "\u001b[1;32m<ipython-input-41-7195502ff5f8>\u001b[0m in \u001b[0;36m<module>\u001b[1;34m\u001b[0m\n\u001b[1;32m----> 1\u001b[1;33m \u001b[0mobj1\u001b[0m\u001b[1;33m.\u001b[0m\u001b[0mm1\u001b[0m\u001b[1;33m(\u001b[0m\u001b[1;36m11\u001b[0m\u001b[1;33m,\u001b[0m\u001b[1;36m2\u001b[0m\u001b[1;33m,\u001b[0m\u001b[1;36m3\u001b[0m\u001b[1;33m)\u001b[0m\u001b[1;33m\u001b[0m\u001b[1;33m\u001b[0m\u001b[0m\n\u001b[0m",
      "\u001b[1;31mTypeError\u001b[0m: m1() takes 3 positional arguments but 4 were given"
     ]
    }
   ],
   "source": [
    "obj1.m1(11,2,3)"
   ]
  },
  {
   "cell_type": "markdown",
   "id": "d2623841",
   "metadata": {},
   "source": [
    "#  Method Overriding\n",
    "-> The process of re-implementing the method of parent class in the child class is referred as \n",
    "Method Overriding"
   ]
  },
  {
   "cell_type": "code",
   "execution_count": 49,
   "id": "ee2c8c46",
   "metadata": {},
   "outputs": [],
   "source": [
    "class addition:\n",
    "    def m1(self,x,y,z):\n",
    "        return x+y+z\n",
    "\n",
    "class test(addition):\n",
    "    def m1(self,x,y,z):\n",
    "        return x*y*z"
   ]
  },
  {
   "cell_type": "code",
   "execution_count": 50,
   "id": "19fe712a",
   "metadata": {},
   "outputs": [],
   "source": [
    "a1=addition()"
   ]
  },
  {
   "cell_type": "code",
   "execution_count": 51,
   "id": "88d9230f",
   "metadata": {},
   "outputs": [
    {
     "data": {
      "text/plain": [
       "16"
      ]
     },
     "execution_count": 51,
     "metadata": {},
     "output_type": "execute_result"
    }
   ],
   "source": [
    "a1.m1(11,2,3)"
   ]
  },
  {
   "cell_type": "code",
   "execution_count": 52,
   "id": "12d62530",
   "metadata": {},
   "outputs": [
    {
     "data": {
      "text/plain": [
       "17"
      ]
     },
     "execution_count": 52,
     "metadata": {},
     "output_type": "execute_result"
    }
   ],
   "source": [
    "a1.m1(12,2,3)"
   ]
  },
  {
   "cell_type": "code",
   "execution_count": 46,
   "id": "5b2c1471",
   "metadata": {},
   "outputs": [],
   "source": [
    "a2=test()"
   ]
  },
  {
   "cell_type": "code",
   "execution_count": 48,
   "id": "d26b9928",
   "metadata": {},
   "outputs": [
    {
     "data": {
      "text/plain": [
       "66"
      ]
     },
     "execution_count": 48,
     "metadata": {},
     "output_type": "execute_result"
    }
   ],
   "source": [
    "a2.m1(11,2,3)"
   ]
  },
  {
   "cell_type": "markdown",
   "id": "38e26ac1",
   "metadata": {},
   "source": [
    "## Encapsulation"
   ]
  },
  {
   "cell_type": "markdown",
   "id": "9a953adf",
   "metadata": {},
   "source": [
    "-> the process of wrapping up the data(attributes) and the data members(methods) into a single entity\n",
    "\n",
    "-> put the restriction on access of data members\n",
    "\n",
    "-> introduces the security to the code\n",
    "\n",
    "-> prevents the accidental modification of data\n",
    "\n"
   ]
  },
  {
   "cell_type": "markdown",
   "id": "606e5c7e",
   "metadata": {},
   "source": [
    "## Implementation of Encapsulation\n",
    "Public-> accessed both inside and outside the class\n",
    "\n",
    "    # attributename=value\n",
    "Protected-> accessed inside the class as well as within the child class or subclass\n",
    "\n",
    "    # _attributename=value\n",
    "Private-> accessed only inside the class\n",
    "\n",
    "    # __attributename=value\n",
    "-> hide the data from unwanted users and implements the feature of security for the code."
   ]
  },
  {
   "cell_type": "code",
   "execution_count": 54,
   "id": "0dc3b047",
   "metadata": {},
   "outputs": [],
   "source": [
    "class demo():\n",
    "    var_public=10\n",
    "    _varprotected=20\n",
    "    __varprivate=30\n",
    "    def val(self):\n",
    "        print('The value is:', self.var_public)"
   ]
  },
  {
   "cell_type": "code",
   "execution_count": 55,
   "id": "78b11775",
   "metadata": {},
   "outputs": [],
   "source": [
    "o1=demo()"
   ]
  },
  {
   "cell_type": "code",
   "execution_count": 56,
   "id": "5dd96859",
   "metadata": {},
   "outputs": [
    {
     "name": "stdout",
     "output_type": "stream",
     "text": [
      "The value is: 10\n"
     ]
    }
   ],
   "source": [
    "o1.val()"
   ]
  },
  {
   "cell_type": "code",
   "execution_count": 57,
   "id": "fc03fb3e",
   "metadata": {},
   "outputs": [
    {
     "data": {
      "text/plain": [
       "10"
      ]
     },
     "execution_count": 57,
     "metadata": {},
     "output_type": "execute_result"
    }
   ],
   "source": [
    "o1.var_public"
   ]
  },
  {
   "cell_type": "code",
   "execution_count": 58,
   "id": "a3a9e390",
   "metadata": {},
   "outputs": [
    {
     "data": {
      "text/plain": [
       "10"
      ]
     },
     "execution_count": 58,
     "metadata": {},
     "output_type": "execute_result"
    }
   ],
   "source": [
    "demo.var_public"
   ]
  },
  {
   "cell_type": "code",
   "execution_count": null,
   "id": "c43a1537",
   "metadata": {},
   "outputs": [],
   "source": []
  },
  {
   "cell_type": "code",
   "execution_count": 59,
   "id": "a05a4171",
   "metadata": {},
   "outputs": [],
   "source": [
    "# for protected and private\n",
    "\n",
    "class demo1():\n",
    "    def __init__(self):\n",
    "        self.var_public=10\n",
    "        self._varprotected=20\n",
    "        self.__varprivate=30\n",
    "    \n",
    "    def accessPrivateVar(self):\n",
    "        print(self.__varprivate)\n",
    "\n",
    "class demochild(demo1):\n",
    "    def accessProtectedVar(self):\n",
    "        print(self._varprotected)\n",
    "        \n",
    "\n",
    "class demo2():\n",
    "    def m2(self):\n",
    "        print(self._varprotected)\n",
    "        "
   ]
  },
  {
   "cell_type": "code",
   "execution_count": 60,
   "id": "86f498d4",
   "metadata": {},
   "outputs": [],
   "source": [
    "a2=demochild()"
   ]
  },
  {
   "cell_type": "code",
   "execution_count": 61,
   "id": "6d3fb47e",
   "metadata": {},
   "outputs": [
    {
     "name": "stdout",
     "output_type": "stream",
     "text": [
      "20\n"
     ]
    }
   ],
   "source": [
    "a2.accessProtectedVar()"
   ]
  },
  {
   "cell_type": "code",
   "execution_count": 62,
   "id": "d4df5b81",
   "metadata": {},
   "outputs": [
    {
     "name": "stdout",
     "output_type": "stream",
     "text": [
      "30\n"
     ]
    }
   ],
   "source": [
    "a2.accessPrivateVar()\n"
   ]
  },
  {
   "cell_type": "code",
   "execution_count": 63,
   "id": "370c46d2",
   "metadata": {},
   "outputs": [
    {
     "ename": "AttributeError",
     "evalue": "'demochild' object has no attribute '__varprivate'",
     "output_type": "error",
     "traceback": [
      "\u001b[1;31m---------------------------------------------------------------------------\u001b[0m",
      "\u001b[1;31mAttributeError\u001b[0m                            Traceback (most recent call last)",
      "\u001b[1;32m<ipython-input-63-99e3662ddb5f>\u001b[0m in \u001b[0;36m<module>\u001b[1;34m\u001b[0m\n\u001b[1;32m----> 1\u001b[1;33m \u001b[0ma2\u001b[0m\u001b[1;33m.\u001b[0m\u001b[0m__varprivate\u001b[0m\u001b[1;33m\u001b[0m\u001b[1;33m\u001b[0m\u001b[0m\n\u001b[0m",
      "\u001b[1;31mAttributeError\u001b[0m: 'demochild' object has no attribute '__varprivate'"
     ]
    }
   ],
   "source": [
    "a2.__varprivate"
   ]
  },
  {
   "cell_type": "code",
   "execution_count": 64,
   "id": "3930dc24",
   "metadata": {},
   "outputs": [],
   "source": [
    "a3=demo2()"
   ]
  },
  {
   "cell_type": "code",
   "execution_count": 65,
   "id": "a03670f4",
   "metadata": {},
   "outputs": [
    {
     "ename": "AttributeError",
     "evalue": "'demo2' object has no attribute '_varprotected'",
     "output_type": "error",
     "traceback": [
      "\u001b[1;31m---------------------------------------------------------------------------\u001b[0m",
      "\u001b[1;31mAttributeError\u001b[0m                            Traceback (most recent call last)",
      "\u001b[1;32m<ipython-input-65-c71a6e03e722>\u001b[0m in \u001b[0;36m<module>\u001b[1;34m\u001b[0m\n\u001b[1;32m----> 1\u001b[1;33m \u001b[0ma3\u001b[0m\u001b[1;33m.\u001b[0m\u001b[0mm2\u001b[0m\u001b[1;33m(\u001b[0m\u001b[1;33m)\u001b[0m\u001b[1;33m\u001b[0m\u001b[1;33m\u001b[0m\u001b[0m\n\u001b[0m",
      "\u001b[1;32m<ipython-input-59-f7856d597abb>\u001b[0m in \u001b[0;36mm2\u001b[1;34m(self)\u001b[0m\n\u001b[0;32m     17\u001b[0m \u001b[1;32mclass\u001b[0m \u001b[0mdemo2\u001b[0m\u001b[1;33m(\u001b[0m\u001b[1;33m)\u001b[0m\u001b[1;33m:\u001b[0m\u001b[1;33m\u001b[0m\u001b[1;33m\u001b[0m\u001b[0m\n\u001b[0;32m     18\u001b[0m     \u001b[1;32mdef\u001b[0m \u001b[0mm2\u001b[0m\u001b[1;33m(\u001b[0m\u001b[0mself\u001b[0m\u001b[1;33m)\u001b[0m\u001b[1;33m:\u001b[0m\u001b[1;33m\u001b[0m\u001b[1;33m\u001b[0m\u001b[0m\n\u001b[1;32m---> 19\u001b[1;33m         \u001b[0mprint\u001b[0m\u001b[1;33m(\u001b[0m\u001b[0mself\u001b[0m\u001b[1;33m.\u001b[0m\u001b[0m_varprotected\u001b[0m\u001b[1;33m)\u001b[0m\u001b[1;33m\u001b[0m\u001b[1;33m\u001b[0m\u001b[0m\n\u001b[0m\u001b[0;32m     20\u001b[0m \u001b[1;33m\u001b[0m\u001b[0m\n",
      "\u001b[1;31mAttributeError\u001b[0m: 'demo2' object has no attribute '_varprotected'"
     ]
    }
   ],
   "source": [
    "a3.m2()"
   ]
  },
  {
   "cell_type": "code",
   "execution_count": 67,
   "id": "f6b31a35",
   "metadata": {},
   "outputs": [],
   "source": [
    "a1=demo1()"
   ]
  },
  {
   "cell_type": "code",
   "execution_count": 68,
   "id": "b2a3b16b",
   "metadata": {},
   "outputs": [
    {
     "name": "stdout",
     "output_type": "stream",
     "text": [
      "30\n"
     ]
    }
   ],
   "source": [
    "a1.accessPrivateVar()"
   ]
  },
  {
   "cell_type": "code",
   "execution_count": 69,
   "id": "a93c10b3",
   "metadata": {},
   "outputs": [
    {
     "ename": "AttributeError",
     "evalue": "'demo1' object has no attribute '__varprivate'",
     "output_type": "error",
     "traceback": [
      "\u001b[1;31m---------------------------------------------------------------------------\u001b[0m",
      "\u001b[1;31mAttributeError\u001b[0m                            Traceback (most recent call last)",
      "\u001b[1;32m<ipython-input-69-170c6a378ee3>\u001b[0m in \u001b[0;36m<module>\u001b[1;34m\u001b[0m\n\u001b[1;32m----> 1\u001b[1;33m \u001b[0ma1\u001b[0m\u001b[1;33m.\u001b[0m\u001b[0m__varprivate\u001b[0m\u001b[1;33m\u001b[0m\u001b[1;33m\u001b[0m\u001b[0m\n\u001b[0m",
      "\u001b[1;31mAttributeError\u001b[0m: 'demo1' object has no attribute '__varprivate'"
     ]
    }
   ],
   "source": [
    "a1.__varprivate"
   ]
  },
  {
   "cell_type": "code",
   "execution_count": null,
   "id": "d97a20e6",
   "metadata": {},
   "outputs": [],
   "source": []
  },
  {
   "cell_type": "code",
   "execution_count": null,
   "id": "15bacd8c",
   "metadata": {},
   "outputs": [],
   "source": []
  },
  {
   "cell_type": "code",
   "execution_count": null,
   "id": "668fc6ad",
   "metadata": {},
   "outputs": [],
   "source": []
  },
  {
   "cell_type": "code",
   "execution_count": null,
   "id": "bd7acba0",
   "metadata": {},
   "outputs": [],
   "source": []
  },
  {
   "cell_type": "code",
   "execution_count": null,
   "id": "d24f56a5",
   "metadata": {},
   "outputs": [],
   "source": []
  },
  {
   "cell_type": "code",
   "execution_count": null,
   "id": "0f44352c",
   "metadata": {},
   "outputs": [],
   "source": []
  },
  {
   "cell_type": "code",
   "execution_count": null,
   "id": "4bf85e44",
   "metadata": {},
   "outputs": [],
   "source": []
  },
  {
   "cell_type": "code",
   "execution_count": null,
   "id": "af0f15f5",
   "metadata": {},
   "outputs": [],
   "source": []
  },
  {
   "cell_type": "code",
   "execution_count": null,
   "id": "3cce5ae5",
   "metadata": {},
   "outputs": [],
   "source": []
  },
  {
   "cell_type": "code",
   "execution_count": null,
   "id": "57831124",
   "metadata": {},
   "outputs": [],
   "source": []
  },
  {
   "cell_type": "code",
   "execution_count": null,
   "id": "99864ee4",
   "metadata": {},
   "outputs": [],
   "source": []
  },
  {
   "cell_type": "code",
   "execution_count": null,
   "id": "8330a431",
   "metadata": {},
   "outputs": [],
   "source": []
  },
  {
   "cell_type": "code",
   "execution_count": null,
   "id": "1f0446d8",
   "metadata": {},
   "outputs": [],
   "source": []
  },
  {
   "cell_type": "code",
   "execution_count": null,
   "id": "5c2817e4",
   "metadata": {},
   "outputs": [],
   "source": []
  },
  {
   "cell_type": "code",
   "execution_count": null,
   "id": "ae59cf83",
   "metadata": {},
   "outputs": [],
   "source": []
  },
  {
   "cell_type": "code",
   "execution_count": null,
   "id": "fc345720",
   "metadata": {},
   "outputs": [],
   "source": []
  },
  {
   "cell_type": "code",
   "execution_count": null,
   "id": "bd896a16",
   "metadata": {},
   "outputs": [],
   "source": []
  },
  {
   "cell_type": "code",
   "execution_count": null,
   "id": "1fd7fe3c",
   "metadata": {},
   "outputs": [],
   "source": []
  },
  {
   "cell_type": "code",
   "execution_count": null,
   "id": "b3672060",
   "metadata": {},
   "outputs": [],
   "source": []
  },
  {
   "cell_type": "code",
   "execution_count": null,
   "id": "9f878231",
   "metadata": {},
   "outputs": [],
   "source": []
  },
  {
   "cell_type": "code",
   "execution_count": null,
   "id": "1cbd1c60",
   "metadata": {},
   "outputs": [],
   "source": []
  },
  {
   "cell_type": "code",
   "execution_count": null,
   "id": "b604354c",
   "metadata": {},
   "outputs": [],
   "source": []
  },
  {
   "cell_type": "code",
   "execution_count": null,
   "id": "278f55ec",
   "metadata": {},
   "outputs": [],
   "source": []
  },
  {
   "cell_type": "code",
   "execution_count": null,
   "id": "c9dd92c2",
   "metadata": {},
   "outputs": [],
   "source": []
  },
  {
   "cell_type": "code",
   "execution_count": null,
   "id": "22fa46e9",
   "metadata": {},
   "outputs": [],
   "source": []
  },
  {
   "cell_type": "code",
   "execution_count": null,
   "id": "cc36e7bc",
   "metadata": {},
   "outputs": [],
   "source": []
  },
  {
   "cell_type": "code",
   "execution_count": null,
   "id": "cebff263",
   "metadata": {},
   "outputs": [],
   "source": []
  },
  {
   "cell_type": "code",
   "execution_count": null,
   "id": "94313965",
   "metadata": {},
   "outputs": [],
   "source": []
  },
  {
   "cell_type": "code",
   "execution_count": null,
   "id": "879da37a",
   "metadata": {},
   "outputs": [],
   "source": []
  },
  {
   "cell_type": "code",
   "execution_count": null,
   "id": "631d9dbf",
   "metadata": {},
   "outputs": [],
   "source": []
  },
  {
   "cell_type": "code",
   "execution_count": null,
   "id": "0f35abf8",
   "metadata": {},
   "outputs": [],
   "source": []
  },
  {
   "cell_type": "code",
   "execution_count": null,
   "id": "820d729a",
   "metadata": {},
   "outputs": [],
   "source": []
  },
  {
   "cell_type": "code",
   "execution_count": null,
   "id": "87ead63d",
   "metadata": {},
   "outputs": [],
   "source": []
  },
  {
   "cell_type": "code",
   "execution_count": null,
   "id": "eca80651",
   "metadata": {},
   "outputs": [],
   "source": []
  },
  {
   "cell_type": "code",
   "execution_count": null,
   "id": "b08074c2",
   "metadata": {},
   "outputs": [],
   "source": []
  },
  {
   "cell_type": "code",
   "execution_count": null,
   "id": "f0d54679",
   "metadata": {},
   "outputs": [],
   "source": []
  },
  {
   "cell_type": "code",
   "execution_count": null,
   "id": "1ee74a8b",
   "metadata": {},
   "outputs": [],
   "source": []
  },
  {
   "cell_type": "code",
   "execution_count": null,
   "id": "a44da5dd",
   "metadata": {},
   "outputs": [],
   "source": []
  },
  {
   "cell_type": "code",
   "execution_count": null,
   "id": "bdfdd836",
   "metadata": {},
   "outputs": [],
   "source": []
  },
  {
   "cell_type": "code",
   "execution_count": null,
   "id": "32085461",
   "metadata": {},
   "outputs": [],
   "source": []
  },
  {
   "cell_type": "code",
   "execution_count": null,
   "id": "7eea5a90",
   "metadata": {},
   "outputs": [],
   "source": []
  },
  {
   "cell_type": "code",
   "execution_count": null,
   "id": "844d1ef8",
   "metadata": {},
   "outputs": [],
   "source": []
  },
  {
   "cell_type": "code",
   "execution_count": null,
   "id": "f07c4b20",
   "metadata": {},
   "outputs": [],
   "source": []
  },
  {
   "cell_type": "code",
   "execution_count": null,
   "id": "6bceae84",
   "metadata": {},
   "outputs": [],
   "source": []
  },
  {
   "cell_type": "code",
   "execution_count": null,
   "id": "7ed8729c",
   "metadata": {},
   "outputs": [],
   "source": []
  },
  {
   "cell_type": "code",
   "execution_count": null,
   "id": "c5716c73",
   "metadata": {},
   "outputs": [],
   "source": []
  },
  {
   "cell_type": "code",
   "execution_count": null,
   "id": "ad537ec3",
   "metadata": {},
   "outputs": [],
   "source": []
  },
  {
   "cell_type": "code",
   "execution_count": null,
   "id": "e4ca7a30",
   "metadata": {},
   "outputs": [],
   "source": []
  },
  {
   "cell_type": "code",
   "execution_count": null,
   "id": "786a9c96",
   "metadata": {},
   "outputs": [],
   "source": []
  },
  {
   "cell_type": "code",
   "execution_count": null,
   "id": "896876a5",
   "metadata": {},
   "outputs": [],
   "source": []
  },
  {
   "cell_type": "code",
   "execution_count": null,
   "id": "ea3722bc",
   "metadata": {},
   "outputs": [],
   "source": []
  },
  {
   "cell_type": "code",
   "execution_count": null,
   "id": "27ca031d",
   "metadata": {},
   "outputs": [],
   "source": []
  },
  {
   "cell_type": "code",
   "execution_count": null,
   "id": "1ba390d4",
   "metadata": {},
   "outputs": [],
   "source": []
  },
  {
   "cell_type": "code",
   "execution_count": null,
   "id": "01230467",
   "metadata": {},
   "outputs": [],
   "source": []
  },
  {
   "cell_type": "code",
   "execution_count": null,
   "id": "50622c9e",
   "metadata": {},
   "outputs": [],
   "source": []
  },
  {
   "cell_type": "code",
   "execution_count": null,
   "id": "75e7a668",
   "metadata": {},
   "outputs": [],
   "source": []
  },
  {
   "cell_type": "code",
   "execution_count": null,
   "id": "b12999e0",
   "metadata": {},
   "outputs": [],
   "source": []
  },
  {
   "cell_type": "code",
   "execution_count": null,
   "id": "3025ac7c",
   "metadata": {},
   "outputs": [],
   "source": []
  },
  {
   "cell_type": "code",
   "execution_count": null,
   "id": "db479cc0",
   "metadata": {},
   "outputs": [],
   "source": []
  },
  {
   "cell_type": "code",
   "execution_count": null,
   "id": "d6b8b2b3",
   "metadata": {},
   "outputs": [],
   "source": []
  },
  {
   "cell_type": "code",
   "execution_count": null,
   "id": "87aa10e6",
   "metadata": {},
   "outputs": [],
   "source": []
  },
  {
   "cell_type": "code",
   "execution_count": null,
   "id": "165c4019",
   "metadata": {},
   "outputs": [],
   "source": []
  },
  {
   "cell_type": "code",
   "execution_count": null,
   "id": "98588333",
   "metadata": {},
   "outputs": [],
   "source": []
  },
  {
   "cell_type": "code",
   "execution_count": null,
   "id": "ec17ad01",
   "metadata": {},
   "outputs": [],
   "source": []
  },
  {
   "cell_type": "code",
   "execution_count": null,
   "id": "044d0cf4",
   "metadata": {},
   "outputs": [],
   "source": []
  },
  {
   "cell_type": "code",
   "execution_count": null,
   "id": "57d8933e",
   "metadata": {},
   "outputs": [],
   "source": []
  },
  {
   "cell_type": "code",
   "execution_count": null,
   "id": "c436570c",
   "metadata": {},
   "outputs": [],
   "source": []
  },
  {
   "cell_type": "code",
   "execution_count": null,
   "id": "97e46894",
   "metadata": {},
   "outputs": [],
   "source": []
  },
  {
   "cell_type": "code",
   "execution_count": null,
   "id": "644e129e",
   "metadata": {},
   "outputs": [],
   "source": []
  },
  {
   "cell_type": "code",
   "execution_count": null,
   "id": "49a86c0d",
   "metadata": {},
   "outputs": [],
   "source": []
  },
  {
   "cell_type": "code",
   "execution_count": null,
   "id": "5991f1b9",
   "metadata": {},
   "outputs": [],
   "source": []
  },
  {
   "cell_type": "code",
   "execution_count": null,
   "id": "341aa893",
   "metadata": {},
   "outputs": [],
   "source": []
  },
  {
   "cell_type": "code",
   "execution_count": null,
   "id": "e0549aa6",
   "metadata": {},
   "outputs": [],
   "source": []
  },
  {
   "cell_type": "code",
   "execution_count": null,
   "id": "3bb79b6a",
   "metadata": {},
   "outputs": [],
   "source": []
  },
  {
   "cell_type": "code",
   "execution_count": null,
   "id": "1cd0e881",
   "metadata": {},
   "outputs": [],
   "source": []
  },
  {
   "cell_type": "code",
   "execution_count": null,
   "id": "21324f76",
   "metadata": {},
   "outputs": [],
   "source": []
  },
  {
   "cell_type": "code",
   "execution_count": null,
   "id": "2c784930",
   "metadata": {},
   "outputs": [],
   "source": []
  },
  {
   "cell_type": "code",
   "execution_count": null,
   "id": "2ab43e41",
   "metadata": {},
   "outputs": [],
   "source": []
  },
  {
   "cell_type": "code",
   "execution_count": null,
   "id": "88e48cda",
   "metadata": {},
   "outputs": [],
   "source": []
  },
  {
   "cell_type": "code",
   "execution_count": null,
   "id": "1fb7f3f9",
   "metadata": {},
   "outputs": [],
   "source": []
  },
  {
   "cell_type": "code",
   "execution_count": null,
   "id": "21e1475f",
   "metadata": {},
   "outputs": [],
   "source": []
  },
  {
   "cell_type": "code",
   "execution_count": null,
   "id": "77196d92",
   "metadata": {},
   "outputs": [],
   "source": []
  },
  {
   "cell_type": "code",
   "execution_count": null,
   "id": "c578aa49",
   "metadata": {},
   "outputs": [],
   "source": []
  },
  {
   "cell_type": "code",
   "execution_count": null,
   "id": "e121d14b",
   "metadata": {},
   "outputs": [],
   "source": []
  },
  {
   "cell_type": "code",
   "execution_count": null,
   "id": "8f1f15c4",
   "metadata": {},
   "outputs": [],
   "source": []
  },
  {
   "cell_type": "code",
   "execution_count": null,
   "id": "b2a01480",
   "metadata": {},
   "outputs": [],
   "source": []
  },
  {
   "cell_type": "code",
   "execution_count": null,
   "id": "a2804600",
   "metadata": {},
   "outputs": [],
   "source": []
  },
  {
   "cell_type": "code",
   "execution_count": null,
   "id": "dd914dbb",
   "metadata": {},
   "outputs": [],
   "source": []
  },
  {
   "cell_type": "code",
   "execution_count": null,
   "id": "62e4721d",
   "metadata": {},
   "outputs": [],
   "source": []
  },
  {
   "cell_type": "code",
   "execution_count": null,
   "id": "3b47431c",
   "metadata": {},
   "outputs": [],
   "source": []
  }
 ],
 "metadata": {
  "kernelspec": {
   "display_name": "Python 3 (ipykernel)",
   "language": "python",
   "name": "python3"
  },
  "language_info": {
   "codemirror_mode": {
    "name": "ipython",
    "version": 3
   },
   "file_extension": ".py",
   "mimetype": "text/x-python",
   "name": "python",
   "nbconvert_exporter": "python",
   "pygments_lexer": "ipython3",
   "version": "3.9.12"
  }
 },
 "nbformat": 4,
 "nbformat_minor": 5
}
