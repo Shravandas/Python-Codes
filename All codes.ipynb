{
 "cells": [
  {
   "cell_type": "code",
   "execution_count": 14,
   "id": "918afd3f",
   "metadata": {},
   "outputs": [
    {
     "name": "stdout",
     "output_type": "stream",
     "text": [
      "1 is not an even number\n",
      "2 is an even number\n",
      "3 is not an even number\n",
      "4 is an even number\n",
      "5 is not an even number\n",
      "6 is an even number\n",
      "7 is not an even number\n",
      "8 is an even number\n"
     ]
    }
   ],
   "source": [
    "i=1\n",
    "while i<9:\n",
    "    if (i%2 == 0):\n",
    "        print(i, \"is an even number\")\n",
    "\n",
    "    else:\n",
    "        print(i,\"is not an even number\")\n",
    "    i=i+1\n",
    "        \n",
    "\n",
    "    "
   ]
  },
  {
   "cell_type": "code",
   "execution_count": 9,
   "id": "889a603c",
   "metadata": {},
   "outputs": [
    {
     "name": "stdout",
     "output_type": "stream",
     "text": [
      "1 is not a prime number\n",
      "2  is a prime\n",
      "3 is not a prime number\n",
      "4  is a prime\n",
      "5  is a prime\n",
      "6  is a prime\n",
      "7  is a prime\n",
      "8  is a prime\n",
      "9  is a prime\n",
      "10  is a prime\n",
      "11  is a prime\n",
      "12  is a prime\n",
      "13  is a prime\n",
      "14  is a prime\n",
      "15  is a prime\n",
      "16  is a prime\n",
      "17  is a prime\n",
      "18  is a prime\n",
      "19  is a prime\n"
     ]
    }
   ],
   "source": [
    "\n",
    "for i in range(1,20):\n",
    "    if (a%i == 0):\n",
    "        print( i,\"is not a prime number\")\n",
    "        \n",
    "    else:\n",
    "        print(i,\" is a prime\")"
   ]
  },
  {
   "cell_type": "code",
   "execution_count": null,
   "id": "d8d000bb",
   "metadata": {},
   "outputs": [],
   "source": []
  },
  {
   "cell_type": "code",
   "execution_count": null,
   "id": "1adce61e",
   "metadata": {
    "scrolled": false
   },
   "outputs": [],
   "source": [
    "l = [\"java\",\"python\",\"c\",\"c++\",\"R\"]\n",
    "r = l.sort(reverse)\n",
    "print(r)\n",
    "\n"
   ]
  },
  {
   "cell_type": "code",
   "execution_count": null,
   "id": "41ef5226",
   "metadata": {},
   "outputs": [],
   "source": [
    "# https://github.com/programiz/python-course\n"
   ]
  },
  {
   "cell_type": "code",
   "execution_count": 33,
   "id": "bdc9a13b",
   "metadata": {},
   "outputs": [],
   "source": [
    "# https://github.com/programiz/python-course\n"
   ]
  },
  {
   "cell_type": "code",
   "execution_count": 4,
   "id": "cdd54f23",
   "metadata": {},
   "outputs": [
    {
     "name": "stdout",
     "output_type": "stream",
     "text": [
      "java\n",
      "python\n",
      "c++\n",
      "R\n"
     ]
    }
   ],
   "source": [
    "l = [\"java\",\"python\",\"c\",\"c++\",\"R\"]\n",
    "\n",
    "for course in l:\n",
    "    if course == \"c\":\n",
    "        continue\n",
    "    print(course)\n",
    "\n",
    "\n",
    "\n",
    "                \n",
    "    "
   ]
  },
  {
   "cell_type": "code",
   "execution_count": 3,
   "id": "e5d4b098",
   "metadata": {},
   "outputs": [],
   "source": [
    "print = \"py\"\n"
   ]
  },
  {
   "cell_type": "code",
   "execution_count": 4,
   "id": "5047e425",
   "metadata": {},
   "outputs": [
    {
     "name": "stdout",
     "output_type": "stream",
     "text": [
      "Enter your password34\n",
      "Password should be more than 6 characters\n",
      "Invalid Password\n"
     ]
    }
   ],
   "source": [
    "lower, upper, special, digit = 0, 0, 0, 0\n",
    "password = input(\"Enter your password\")\n",
    "if (len(password) >= 6):\n",
    "    for i in password:\n",
    "        for word in password.split():\n",
    "            if(word[0].isupper()):\n",
    "                upper += 1\n",
    "        if(i.islower()):\n",
    "            lower += 1\n",
    "        if(i.isdigit()):\n",
    "            digit += 1\n",
    "        if(i == '@' or i == '$' or i == '_' or i == '#'):\n",
    "            special += 1\n",
    "else:\n",
    "    print(\"Password should be more than 6 characters\")\n",
    "if (lower >= 1 and upper >= 1 and special >= 1 and digit >= 1):\n",
    "    print(\"Valid Password\")\n",
    "else:\n",
    "    print(\"Invalid Password\")"
   ]
  },
  {
   "cell_type": "code",
   "execution_count": 5,
   "id": "a40e7e9c",
   "metadata": {},
   "outputs": [],
   "source": [
    "del print"
   ]
  },
  {
   "cell_type": "code",
   "execution_count": 8,
   "id": "0ea6e242",
   "metadata": {},
   "outputs": [
    {
     "name": "stdout",
     "output_type": "stream",
     "text": [
      "False\n"
     ]
    }
   ],
   "source": [
    "txt = \"The best things in life are free!\"\n",
    "print(\"expensive\" in txt)"
   ]
  },
  {
   "cell_type": "code",
   "execution_count": 21,
   "id": "6b13fcc1",
   "metadata": {},
   "outputs": [
    {
     "name": "stdout",
     "output_type": "stream",
     "text": [
      "Learning is there in the sentence\n"
     ]
    }
   ],
   "source": [
    "a = \"Shravan is learning python\"\n",
    "if'python' in a:\n",
    "    print(\"python is there in the sentence\")\n",
    "elif 'learning' in a:\n",
    "    print(\"Learning is not there in the sentence\")\n",
    "else:\n",
    "    print(\"Waste fellow\")"
   ]
  },
  {
   "cell_type": "code",
   "execution_count": 18,
   "id": "739a81cc",
   "metadata": {},
   "outputs": [
    {
     "name": "stdout",
     "output_type": "stream",
     "text": [
      "SHRAVAN IS LEARNING PYTHON\n"
     ]
    }
   ],
   "source": [
    "a = \"shravan is learning python\"\n",
    "print(a.upper())"
   ]
  },
  {
   "cell_type": "code",
   "execution_count": 1,
   "id": "25bb32aa",
   "metadata": {},
   "outputs": [
    {
     "name": "stdout",
     "output_type": "stream",
     "text": [
      "enter a name sjravam\n"
     ]
    }
   ],
   "source": [
    "e = input(\"enter a name \")"
   ]
  },
  {
   "cell_type": "code",
   "execution_count": 27,
   "id": "16f8b727",
   "metadata": {},
   "outputs": [
    {
     "name": "stdout",
     "output_type": "stream",
     "text": [
      "google\n"
     ]
    }
   ],
   "source": [
    "l =[4,6,\"google\",3.5]\n",
    "print(l[2])"
   ]
  },
  {
   "cell_type": "code",
   "execution_count": 43,
   "id": "e0876339",
   "metadata": {},
   "outputs": [
    {
     "name": "stdout",
     "output_type": "stream",
     "text": [
      "5\n"
     ]
    }
   ],
   "source": [
    "\n",
    "p = [\"python\", [2, 0, 1, 5]]\n",
    "\n",
    "print(p[1][3])\n",
    "\n",
    "\n",
    "\n"
   ]
  },
  {
   "cell_type": "code",
   "execution_count": 78,
   "id": "a61eec93",
   "metadata": {},
   "outputs": [
    {
     "ename": "SyntaxError",
     "evalue": "invalid syntax (3176587651.py, line 6)",
     "output_type": "error",
     "traceback": [
      "\u001b[0;36m  Input \u001b[0;32mIn [78]\u001b[0;36m\u001b[0m\n\u001b[0;31m    if len(l) = 10:\u001b[0m\n\u001b[0m              ^\u001b[0m\n\u001b[0;31mSyntaxError\u001b[0m\u001b[0;31m:\u001b[0m invalid syntax\n"
     ]
    }
   ],
   "source": [
    "l =[4,6,\"google\",3.5,4,4]\n",
    "m = [4,6,\"rough\",\"thik\",\"pore\"]\n",
    "l.extend(m)\n",
    "r = print(len(l))\n",
    "\n",
    "if len(l) = 10:\n",
    "    print(\"there is no place\")\n",
    "    else:\n",
    "        print(\"go away\")\n",
    "    \n"
   ]
  },
  {
   "cell_type": "code",
   "execution_count": 90,
   "id": "ec2e7b4a",
   "metadata": {},
   "outputs": [
    {
     "ename": "SyntaxError",
     "evalue": "invalid syntax (2827671613.py, line 2)",
     "output_type": "error",
     "traceback": [
      "\u001b[0;36m  Input \u001b[0;32mIn [90]\u001b[0;36m\u001b[0m\n\u001b[0;31m    c.append([1]:['rupee','dinar'])\u001b[0m\n\u001b[0m                ^\u001b[0m\n\u001b[0;31mSyntaxError\u001b[0m\u001b[0;31m:\u001b[0m invalid syntax\n"
     ]
    }
   ],
   "source": [
    "c = ['Dollar', 'Euro', 'Pound']\n",
    "c([1]:)\n",
    "print(c)"
   ]
  },
  {
   "cell_type": "code",
   "execution_count": 106,
   "id": "8504b84f",
   "metadata": {},
   "outputs": [
    {
     "data": {
      "text/plain": [
       "[20, 60, 11, 15]"
      ]
     },
     "execution_count": 106,
     "metadata": {},
     "output_type": "execute_result"
    }
   ],
   "source": [
    "n = [10, 20, 30, 40, 50, 60, 70, 80, 90,11,12,13,14,15,16,17,18]\n",
    "n[1:-1:4]\n",
    "\n",
    "\n"
   ]
  },
  {
   "cell_type": "code",
   "execution_count": 125,
   "id": "588c3105",
   "metadata": {},
   "outputs": [
    {
     "data": {
      "text/plain": [
       "[50]"
      ]
     },
     "execution_count": 125,
     "metadata": {},
     "output_type": "execute_result"
    }
   ],
   "source": [
    " numsz = [10, 20, 30, 40, 50, 60, 70, 80, 90]\n",
    " numsz[4:5:1]\n",
    "\n"
   ]
  },
  {
   "cell_type": "code",
   "execution_count": 135,
   "id": "90f6bbee",
   "metadata": {},
   "outputs": [
    {
     "ename": "ValueError",
     "evalue": "attempt to assign sequence of size 4 to extended slice of size 3",
     "output_type": "error",
     "traceback": [
      "\u001b[0;31m---------------------------------------------------------------------------\u001b[0m",
      "\u001b[0;31mValueError\u001b[0m                                Traceback (most recent call last)",
      "Input \u001b[0;32mIn [135]\u001b[0m, in \u001b[0;36m<cell line: 3>\u001b[0;34m()\u001b[0m\n\u001b[1;32m      1\u001b[0m nums \u001b[38;5;241m=\u001b[39m [\u001b[38;5;241m10\u001b[39m, \u001b[38;5;241m20\u001b[39m, \u001b[38;5;241m30\u001b[39m, \u001b[38;5;241m40\u001b[39m, \u001b[38;5;241m50\u001b[39m, \u001b[38;5;241m60\u001b[39m, \u001b[38;5;241m70\u001b[39m, \u001b[38;5;241m80\u001b[39m, \u001b[38;5;241m90\u001b[39m,\u001b[38;5;241m11\u001b[39m,\u001b[38;5;241m12\u001b[39m,\u001b[38;5;241m13\u001b[39m,\u001b[38;5;241m14\u001b[39m,\u001b[38;5;241m15\u001b[39m,\u001b[38;5;241m16\u001b[39m,\u001b[38;5;241m17\u001b[39m,\u001b[38;5;241m18\u001b[39m]\n\u001b[1;32m      2\u001b[0m \u001b[38;5;28mlen\u001b[39m(nums)\n\u001b[0;32m----> 3\u001b[0m nums[\u001b[38;5;241m3\u001b[39m:\u001b[38;5;241m15\u001b[39m:\u001b[38;5;241m4\u001b[39m] \u001b[38;5;241m=\u001b[39m [\u001b[38;5;241m0\u001b[39m,\u001b[38;5;241m1\u001b[39m,\u001b[38;5;241m2\u001b[39m,\u001b[38;5;241m3\u001b[39m]\n\u001b[1;32m      4\u001b[0m nums\n",
      "\u001b[0;31mValueError\u001b[0m: attempt to assign sequence of size 4 to extended slice of size 3"
     ]
    }
   ],
   "source": [
    ">>> nums = [10, 20, 30, 40, 50, 60, 70, 80, 90,11,12,13,14,15,16,17,18]\n",
    "len(nums)\n",
    ">>> nums[3:15:4] = [0,1,2,3]\n",
    ">>> nums"
   ]
  },
  {
   "cell_type": "code",
   "execution_count": 154,
   "id": "a685da2d",
   "metadata": {},
   "outputs": [
    {
     "name": "stdout",
     "output_type": "stream",
     "text": [
      "[10, 56, 30, 40]\n"
     ]
    }
   ],
   "source": [
    ">>> nums = [10, 20, 30, 40]\n",
    ">>> nums[1:3:2]=[56]\n",
    "print(nums)\n",
    "\n"
   ]
  },
  {
   "cell_type": "code",
   "execution_count": 168,
   "id": "f5c1b143",
   "metadata": {},
   "outputs": [
    {
     "ename": "IndentationError",
     "evalue": "unexpected indent (3301244542.py, line 5)",
     "output_type": "error",
     "traceback": [
      "\u001b[0;36m  Input \u001b[0;32mIn [168]\u001b[0;36m\u001b[0m\n\u001b[0;31m    nums[1:8:5] = [a,b]\u001b[0m\n\u001b[0m    ^\u001b[0m\n\u001b[0;31mIndentationError\u001b[0m\u001b[0;31m:\u001b[0m unexpected indent\n"
     ]
    }
   ],
   "source": [
    "\n",
    "nums = [10, 20, 30, 40, 50, 60, 70, 80, 90,11,12,13,14,15,16,17,18]\n",
    "a = input(\"enter 1st nu\")\n",
    "b = input(\"enter 2nd number\")\n",
    "\n",
    " nums[1:8:5] = [a,b]\n",
    "    nums\n",
    "\n"
   ]
  },
  {
   "cell_type": "code",
   "execution_count": 178,
   "id": "2053a237",
   "metadata": {},
   "outputs": [
    {
     "name": "stdout",
     "output_type": "stream",
     "text": [
      "Java\n"
     ]
    }
   ],
   "source": [
    "dict1={1:\"Python\",2:\"Java\",3:\"Ruby\",4:\"Scala\"}\n",
    "print(dict1.pop(2))"
   ]
  },
  {
   "cell_type": "code",
   "execution_count": 179,
   "id": "696b415f",
   "metadata": {},
   "outputs": [
    {
     "name": "stdout",
     "output_type": "stream",
     "text": [
      "{1: 'Python', 3: 'Ruby', 4: 'Scala'}\n"
     ]
    }
   ],
   "source": [
    "print(dict1)"
   ]
  },
  {
   "cell_type": "code",
   "execution_count": 182,
   "id": "695de42b",
   "metadata": {},
   "outputs": [
    {
     "name": "stdout",
     "output_type": "stream",
     "text": [
      "{'a': 'Apple', 'b': 'Boy', 'c': 'Cat', 'd': 'Dog'}\n"
     ]
    }
   ],
   "source": [
    "dict2 ={'a':\"Apple\", 'b':\"Boy\",'c':\"Cat\",'d':\"Dog\"}\n",
    "print(dict2)"
   ]
  },
  {
   "cell_type": "code",
   "execution_count": 191,
   "id": "0bec735c",
   "metadata": {},
   "outputs": [
    {
     "name": "stdout",
     "output_type": "stream",
     "text": [
      "a is lesser than b\n",
      "a or b is invalid\n"
     ]
    }
   ],
   "source": [
    "a = 0\n",
    "b = 10\n",
    "if(a==0) or (b==0):\n",
    "    if (a>b):\n",
    "        print(\"a is greater than b\")\n",
    "    if (a<b):\n",
    "        print(\"a is lesser than b\")   \n",
    "    if(a==b):\n",
    "        print(\"a is equal to b\")\n",
    "    else:\n",
    "        print(\"a or b is invalid\")\n",
    "        \n",
    "else:\n",
    "    print(\"a and b are equal\")"
   ]
  },
  {
   "cell_type": "code",
   "execution_count": 197,
   "id": "1c6a6b6c",
   "metadata": {},
   "outputs": [
    {
     "name": "stdout",
     "output_type": "stream",
     "text": [
      "2\n",
      "3\n",
      "4\n",
      "5\n",
      "6\n",
      "7\n",
      "8\n",
      "9\n",
      "10\n",
      "11\n",
      "12\n",
      "13\n"
     ]
    }
   ],
   "source": [
    "for i in range(12):\n",
    "    print(i+2)"
   ]
  },
  {
   "cell_type": "code",
   "execution_count": 226,
   "id": "1abea05c",
   "metadata": {},
   "outputs": [
    {
     "name": "stdout",
     "output_type": "stream",
     "text": [
      "enter a number11\n",
      "table for 11\n",
      "11 X 1 = 11\n",
      "11 X 2 = 22\n",
      "11 X 3 = 33\n",
      "11 X 4 = 44\n",
      "11 X 5 = 55\n",
      "11 X 6 = 66\n",
      "11 X 7 = 77\n",
      "11 X 8 = 88\n",
      "11 X 9 = 99\n",
      "11 X 10 = 110\n"
     ]
    }
   ],
   "source": [
    "n = int(input(\"enter a number\"))\n",
    "print(\"table for\", n)\n",
    "\n",
    "for i in range(1,11):\n",
    "    print(n,\"X\", i,\"=\", i * n )\n",
    "    \n",
    "\n",
    "    \n"
   ]
  },
  {
   "cell_type": "code",
   "execution_count": 209,
   "id": "3c265e1d",
   "metadata": {},
   "outputs": [
    {
     "name": "stdout",
     "output_type": "stream",
     "text": [
      "11\n",
      "12\n",
      "13\n",
      "14\n"
     ]
    }
   ],
   "source": [
    "i=11\n",
    "while (i>10 and i<15):\n",
    "    print(i)\n",
    "    i=i+1\n",
    " "
   ]
  },
  {
   "cell_type": "code",
   "execution_count": 225,
   "id": "a8ec8871",
   "metadata": {},
   "outputs": [],
   "source": [
    "i=0\n",
    "while (i/2):\n",
    "    print(i)\n",
    "    i=i+1"
   ]
  },
  {
   "cell_type": "code",
   "execution_count": 264,
   "id": "6f4f9ae3",
   "metadata": {},
   "outputs": [
    {
     "name": "stdout",
     "output_type": "stream",
     "text": [
      "1 is an odd number\n",
      "2 is an even number\n",
      "3 is an odd number\n",
      "4 is an even number\n",
      "5 is an odd number\n",
      "6 is an even number\n",
      "7 is an odd number\n",
      "8 is an even number\n",
      "9 is an odd number\n"
     ]
    }
   ],
   "source": [
    "\n",
    "i=1\n",
    "while (i<10):\n",
    "    if(i%2 == 0): \n",
    "        print(i, \"is an even number\")\n",
    "    else:\n",
    "          print(i, \"is an odd number\")\n",
    "    i=i+1\n",
    "    \n",
    "        \n",
    "       \n",
    "    \n",
    "    \n"
   ]
  },
  {
   "cell_type": "code",
   "execution_count": 262,
   "id": "caa83f14",
   "metadata": {},
   "outputs": [
    {
     "name": "stdout",
     "output_type": "stream",
     "text": [
      "Enter a number: 4\n",
      "2 4 "
     ]
    }
   ],
   "source": [
    "x = int(input(\"Enter a number: \"))\n",
    "i = 1\n",
    "\n",
    "while i <= x:\n",
    "    if i % 2 == 0:\n",
    "        print(i, end=\" \")\n",
    "    i = i + 1"
   ]
  },
  {
   "cell_type": "code",
   "execution_count": 269,
   "id": "bdb316cf",
   "metadata": {},
   "outputs": [
    {
     "name": "stdout",
     "output_type": "stream",
     "text": [
      "Enter the upper number4\n",
      "Enter the lower number6\n",
      "4 is an even number\n",
      "5 is an odd number\n",
      "6 is an even number\n"
     ]
    }
   ],
   "source": [
    "a = int(input(\"Enter the upper number\"))\n",
    "b = int(input(\"Enter the lower number\"))\n",
    "\n",
    "for x in range(a,b+1):\n",
    "    if x%2 == 0:\n",
    "        print(x, \"is an even number\")\n",
    "    else:\n",
    "        print(x, \"is an odd number\")\n",
    " \n"
   ]
  },
  {
   "cell_type": "code",
   "execution_count": 23,
   "id": "0fe9eca8",
   "metadata": {},
   "outputs": [
    {
     "name": "stdout",
     "output_type": "stream",
     "text": [
      "Enter the upper number1\n",
      "Enter the lower number20\n",
      "1 2 3 5 7 11 13 17 19 "
     ]
    }
   ],
   "source": [
    "a = int(input(\"Enter the upper number\"))\n",
    "b = int(input(\"Enter the lower number\"))\n",
    "\n",
    "for x in range(a,b+1):\n",
    "\n",
    "        for i in range(2,x):\n",
    "            if x%i == 0:\n",
    "                break\n",
    "            \n",
    "        else:\n",
    "            print(x,end= \" \")\n",
    "           \n",
    "            \n",
    "      \n",
    "        \n",
    "   \n",
    "         \n",
    "        \n",
    "\n",
    "        \n",
    "\n",
    "        \n",
    "   \n",
    " "
   ]
  },
  {
   "cell_type": "code",
   "execution_count": 22,
   "id": "534fdb69",
   "metadata": {},
   "outputs": [
    {
     "name": "stdout",
     "output_type": "stream",
     "text": [
      "Enter any number:1\n",
      "1 is prime number\n"
     ]
    }
   ],
   "source": [
    "number = int(input(\"Enter any number:\"))\n",
    "if number>0:\n",
    "    for i in range(2,number):\n",
    "        if (number%i)==0:\n",
    "            print(number, \"is not prime number\")\n",
    "            break\n",
    "    else:\n",
    "            print(number, \"is prime number\")"
   ]
  },
  {
   "cell_type": "markdown",
   "id": "238f80ef",
   "metadata": {},
   "source": [
    "a = 1\n",
    "b = 20\n",
    "for i in range(1,10):\n",
    "    i+=1\n",
    "    for j in range(a,b):\n",
    "           if i%j==0:\n",
    "            print(i, \"is a not a prime number\")\n",
    "            break"
   ]
  },
  {
   "cell_type": "code",
   "execution_count": 30,
   "id": "fdcdc9fd",
   "metadata": {},
   "outputs": [
    {
     "name": "stdout",
     "output_type": "stream",
     "text": [
      "1 is a prime number\n",
      "2 is a prime number\n",
      "3 is a prime number\n",
      "4 is a prime number\n",
      "5 is a prime number\n",
      "7 is a prime number\n",
      "11 is a prime number\n",
      "13 is a prime number\n",
      "17 is a prime number\n",
      "19 is a prime number\n"
     ]
    }
   ],
   "source": [
    "for x in range(1,20):\n",
    "    for i in range (3,x):\n",
    "        if x%i ==0:\n",
    "            break\n",
    "    else:\n",
    "            print(x,\"is a prime number\")\n",
    "            \n",
    "            \n",
    "            \n",
    "\n",
    "\n",
    "           \n",
    "\n",
    "        "
   ]
  },
  {
   "cell_type": "code",
   "execution_count": 68,
   "id": "2a9d3012",
   "metadata": {},
   "outputs": [
    {
     "name": "stdout",
     "output_type": "stream",
     "text": [
      "1 1 2 1 2 3 1 2 3 4 1 2 3 4 5 "
     ]
    }
   ],
   "source": [
    "\n",
    "for i in range(1,6):\n",
    "    for j in range(1,i+1):\n",
    " \n",
    "        print(j,end=\" \")\n",
    "\n",
    "\n",
    "\n",
    "  \n",
    "        \n",
    "      \n",
    "    \n",
    " "
   ]
  },
  {
   "cell_type": "code",
   "execution_count": 62,
   "id": "7184b07a",
   "metadata": {},
   "outputs": [
    {
     "name": "stdout",
     "output_type": "stream",
     "text": [
      "Number Pattern \n",
      "1 \n",
      "1 2 \n",
      "1 2 3 \n",
      "1 2 3 4 \n"
     ]
    }
   ],
   "source": [
    "print(\"Number Pattern \")\n",
    "\n",
    "\n",
    "row = 4\n",
    "for i in range(1, row + 1):\n",
    "\n",
    "    for j in range(1, i + 1):\n",
    "        print(j, end=' ')\n",
    " \n",
    "    print(\"\")"
   ]
  },
  {
   "cell_type": "code",
   "execution_count": 84,
   "id": "0d993f6c",
   "metadata": {},
   "outputs": [
    {
     "ename": "TypeError",
     "evalue": "'int' object is not iterable",
     "output_type": "error",
     "traceback": [
      "\u001b[0;31m---------------------------------------------------------------------------\u001b[0m",
      "\u001b[0;31mTypeError\u001b[0m                                 Traceback (most recent call last)",
      "Input \u001b[0;32mIn [84]\u001b[0m, in \u001b[0;36m<cell line: 2>\u001b[0;34m()\u001b[0m\n\u001b[1;32m      2\u001b[0m \u001b[38;5;28;01mfor\u001b[39;00m i \u001b[38;5;129;01min\u001b[39;00m \u001b[38;5;28mrange\u001b[39m(\u001b[38;5;241m1\u001b[39m,s):\n\u001b[1;32m      3\u001b[0m     \u001b[38;5;28;01mfor\u001b[39;00m j \u001b[38;5;129;01min\u001b[39;00m \u001b[38;5;28mrange\u001b[39m(\u001b[38;5;241m1\u001b[39m,i):\n\u001b[0;32m----> 4\u001b[0m         r \u001b[38;5;241m=\u001b[39m \u001b[38;5;28;43msum\u001b[39;49m\u001b[43m(\u001b[49m\u001b[43ms\u001b[49m\u001b[43m,\u001b[49m\u001b[43mj\u001b[49m\u001b[43m)\u001b[49m\n\u001b[1;32m      5\u001b[0m         \u001b[38;5;28mprint\u001b[39m(r)\n",
      "\u001b[0;31mTypeError\u001b[0m: 'int' object is not iterable"
     ]
    }
   ],
   "source": [
    "i = int(10)\n",
    "for i in range(1,s):\n",
    "    for j in range(1,i):\n",
    "        r = sum(s,j)\n",
    "        print(r)\n",
    "        \n",
    "\n",
    "\n"
   ]
  },
  {
   "cell_type": "code",
   "execution_count": 99,
   "id": "3713a83d",
   "metadata": {},
   "outputs": [
    {
     "name": "stdout",
     "output_type": "stream",
     "text": [
      "Enter number 3\n",
      "Sum is:  4\n"
     ]
    }
   ],
   "source": [
    "\n",
    "s = 0\n",
    "n = int(input(\"Enter number \"))\n",
    "\n",
    "for i in range(1, n + 1,):\n",
    "\n",
    "    s = i +1\n",
    "\n",
    "print(\"Sum is: \", s)"
   ]
  },
  {
   "cell_type": "code",
   "execution_count": 126,
   "id": "d7d2e26d",
   "metadata": {},
   "outputs": [
    {
     "name": "stdout",
     "output_type": "stream",
     "text": [
      "enter table4\n",
      "4 X 1 = 4\n",
      "4 X 2 = 8\n",
      "4 X 3 = 12\n",
      "4 X 4 = 16\n",
      "4 X 5 = 20\n",
      "4 X 6 = 24\n",
      "4 X 7 = 28\n",
      "4 X 8 = 32\n",
      "4 X 9 = 36\n",
      "4 X 10 = 40\n"
     ]
    }
   ],
   "source": [
    "\n",
    "n = int(input(\"enter table\"))\n",
    "i = 1\n",
    "while i < 11:\n",
    "    a = i*n\n",
    "    print(n,\"X\", i, \"=\", a)\n",
    "    i += 1\n",
    "     \n"
   ]
  },
  {
   "cell_type": "code",
   "execution_count": 135,
   "id": "52fefb6b",
   "metadata": {},
   "outputs": [
    {
     "name": "stdout",
     "output_type": "stream",
     "text": [
      "Enter the table number 9\n",
      "9 X 1 = 9\n",
      "9 X 2 = 18\n",
      "9 X 3 = 27\n",
      "9 X 4 = 36\n",
      "9 X 5 = 45\n",
      "9 X 6 = 54\n",
      "9 X 7 = 63\n",
      "9 X 8 = 72\n",
      "9 X 9 = 81\n",
      "9 X 10 = 90\n"
     ]
    }
   ],
   "source": [
    "r = int(input(\"Enter the table number \"))\n",
    "for i in range(1,11):\n",
    "    s = i*r\n",
    "    print(r,\"X\", i ,\"=\" ,s)"
   ]
  },
  {
   "cell_type": "code",
   "execution_count": 158,
   "id": "2ea65edc",
   "metadata": {},
   "outputs": [
    {
     "name": "stdout",
     "output_type": "stream",
     "text": [
      "525\n"
     ]
    }
   ],
   "source": [
    "\n",
    "#The number must be divisible by five\n",
    "#If the number is greater than 150, then skip it and move to the next number\n",
    "#If the number is greater than 500, then stop the loop\n",
    "\n",
    "for n in [12, 75, 150, 180, 145, 525, 50]:\n",
    "    if (n%5 ==0 and n>150):\n",
    "          if (n>500):\n",
    "     \n",
    "            print(n)\n",
    "            n +=1\n",
    "        \n",
    "\n"
   ]
  },
  {
   "cell_type": "code",
   "execution_count": 195,
   "id": "fef5429f",
   "metadata": {},
   "outputs": [
    {
     "name": "stdout",
     "output_type": "stream",
     "text": [
      "1\n",
      "\n",
      "2\n",
      "\n",
      "3\n",
      "\n",
      "4\n",
      "\n",
      "5\n",
      "\n"
     ]
    }
   ],
   "source": [
    "\n",
    "for i in range(1,6):\n",
    "    print(i)\n",
    "    for j in range(1,i,-1):\n",
    "        print(j,end=\" \")\n",
    "       \n",
    "    print()\n",
    "\n",
    "   "
   ]
  },
  {
   "cell_type": "code",
   "execution_count": 3,
   "id": "1cf7cd96",
   "metadata": {},
   "outputs": [
    {
     "name": "stdout",
     "output_type": "stream",
     "text": [
      "5 4 3 2 1 \n",
      "4 3 2 1 \n",
      "3 2 1 \n",
      "2 1 \n",
      "1 \n",
      "\n"
     ]
    }
   ],
   "source": [
    "n = 5\n",
    "k = 5\n",
    "for i in range(0,n+1):\n",
    "    for j in range(k-i,0,-1):\n",
    "        print(j,end=' ')\n",
    "    print()"
   ]
  },
  {
   "cell_type": "code",
   "execution_count": 16,
   "id": "d78a462c",
   "metadata": {},
   "outputs": [
    {
     "name": "stdout",
     "output_type": "stream",
     "text": [
      "50\n",
      "40\n",
      "30\n",
      "20\n",
      "10\n"
     ]
    }
   ],
   "source": [
    "l = [10, 20, 30, 40, 50]\n",
    "r = reversed(l)\n",
    "for l in r:\n",
    "    print(l)"
   ]
  },
  {
   "cell_type": "code",
   "execution_count": 15,
   "id": "45cb3db4",
   "metadata": {},
   "outputs": [
    {
     "name": "stdout",
     "output_type": "stream",
     "text": [
      "50\n",
      "40\n",
      "30\n",
      "20\n",
      "10\n"
     ]
    }
   ],
   "source": [
    "l = [10, 20, 30, 40, 50]\n",
    "# reverse list\n",
    "nl = reversed(list1)\n",
    "# iterate reversed list\n",
    "for l in nl:\n",
    "    print(l)"
   ]
  },
  {
   "cell_type": "code",
   "execution_count": 45,
   "id": "acf5d957",
   "metadata": {},
   "outputs": [
    {
     "name": "stdout",
     "output_type": "stream",
     "text": [
      "[10]\n"
     ]
    }
   ],
   "source": [
    "l = [10, 20, 30, 40, 50]\n",
    "print(l[0:-4:2])\n"
   ]
  },
  {
   "cell_type": "code",
   "execution_count": 48,
   "id": "365235a9",
   "metadata": {},
   "outputs": [
    {
     "name": "stdout",
     "output_type": "stream",
     "text": [
      "[50, 40, 30, 20, 10]\n",
      "[10, 20, 30, 40, 50]\n",
      "[10, 20, 30, 40, 50]\n",
      "[10, 20, 30, 40, 50]\n",
      "[10, 20, 30, 40, 50]\n",
      "[10, 20, 30, 40, 50]\n"
     ]
    }
   ],
   "source": [
    "l = [10, 20, 30, 40, 50]\n",
    "r = print(list(reversed(l)))\n",
    "for r in l:\n",
    "    print(l)"
   ]
  },
  {
   "cell_type": "code",
   "execution_count": 52,
   "id": "b10a2eea",
   "metadata": {},
   "outputs": [
    {
     "name": "stdout",
     "output_type": "stream",
     "text": [
      "-10\n",
      "-9\n",
      "-8\n",
      "-7\n",
      "-6\n",
      "-5\n",
      "-4\n",
      "-3\n",
      "-2\n",
      "-1\n",
      "0\n"
     ]
    }
   ],
   "source": [
    "for num in range(-10,1):\n",
    "    print(num)"
   ]
  },
  {
   "cell_type": "code",
   "execution_count": 53,
   "id": "d254479b",
   "metadata": {},
   "outputs": [],
   "source": [
    "# https://pynative.com/python-if-else-and-for-loop-exercise-with-solutions/\n"
   ]
  },
  {
   "cell_type": "code",
   "execution_count": 64,
   "id": "34114440",
   "metadata": {},
   "outputs": [
    {
     "name": "stdout",
     "output_type": "stream",
     "text": [
      "3 is a prime\n",
      "4 is not a prime\n",
      "5 is a prime\n",
      "5 is a prime\n",
      "5 is a prime\n",
      "6 is not a prime\n",
      "7 is a prime\n",
      "7 is a prime\n",
      "7 is a prime\n",
      "7 is a prime\n",
      "7 is a prime\n",
      "8 is not a prime\n",
      "9 is a prime\n",
      "9 is not a prime\n",
      "10 is not a prime\n",
      "11 is a prime\n",
      "11 is a prime\n",
      "11 is a prime\n",
      "11 is a prime\n",
      "11 is a prime\n",
      "11 is a prime\n",
      "11 is a prime\n",
      "11 is a prime\n",
      "11 is a prime\n",
      "12 is not a prime\n",
      "13 is a prime\n",
      "13 is a prime\n",
      "13 is a prime\n",
      "13 is a prime\n",
      "13 is a prime\n",
      "13 is a prime\n",
      "13 is a prime\n",
      "13 is a prime\n",
      "13 is a prime\n",
      "13 is a prime\n",
      "13 is a prime\n",
      "14 is not a prime\n",
      "15 is a prime\n",
      "15 is not a prime\n",
      "16 is not a prime\n",
      "17 is a prime\n",
      "17 is a prime\n",
      "17 is a prime\n",
      "17 is a prime\n",
      "17 is a prime\n",
      "17 is a prime\n",
      "17 is a prime\n",
      "17 is a prime\n",
      "17 is a prime\n",
      "17 is a prime\n",
      "17 is a prime\n",
      "17 is a prime\n",
      "17 is a prime\n",
      "17 is a prime\n",
      "17 is a prime\n",
      "18 is not a prime\n",
      "19 is a prime\n",
      "19 is a prime\n",
      "19 is a prime\n",
      "19 is a prime\n",
      "19 is a prime\n",
      "19 is a prime\n",
      "19 is a prime\n",
      "19 is a prime\n",
      "19 is a prime\n",
      "19 is a prime\n",
      "19 is a prime\n",
      "19 is a prime\n",
      "19 is a prime\n",
      "19 is a prime\n",
      "19 is a prime\n",
      "19 is a prime\n",
      "19 is a prime\n"
     ]
    }
   ],
   "source": [
    "\n",
    "for i in range(1,20):\n",
    "\n",
    "    for j in range(2,i):\n",
    "        i>0\n",
    "        if i%j==0:\n",
    "            print(i,\"is not a prime\")\n",
    "            break\n",
    "           \n",
    "        else:\n",
    "            print(i, \"is a prime\")\n",
    "         "
   ]
  },
  {
   "cell_type": "code",
   "execution_count": 70,
   "id": "8f1310dd",
   "metadata": {},
   "outputs": [
    {
     "name": "stdout",
     "output_type": "stream",
     "text": [
      "Prime numbers between 55 and 100 are:\n",
      "59\n",
      "61\n",
      "67\n",
      "71\n",
      "73\n",
      "79\n",
      "83\n",
      "89\n",
      "97\n"
     ]
    }
   ],
   "source": [
    "start = 55\n",
    "end = 100\n",
    "print(\"Prime numbers between\", start, \"and\", end, \"are:\")\n",
    "\n",
    "for num in range(start, end + 1):\n",
    "\n",
    "\n",
    "        for i in range(2, num):\n",
    " \n",
    "            if (num % i) == 0:\n",
    "          \n",
    "                break\n",
    "        else:\n",
    "            print(num)"
   ]
  },
  {
   "cell_type": "code",
   "execution_count": 99,
   "id": "403e73aa",
   "metadata": {},
   "outputs": [
    {
     "name": "stdout",
     "output_type": "stream",
     "text": [
      "1 2 3 5 7 11 13 17 19 "
     ]
    }
   ],
   "source": [
    "\n",
    "for i in range(1,20):\n",
    "    \n",
    "\n",
    "    for j in range(2,i):\n",
    "        i>1\n",
    "   \n",
    "        if i%j==0:\n",
    "            break\n",
    "    else:\n",
    "        print(i,end=\" \")"
   ]
  },
  {
   "cell_type": "code",
   "execution_count": 113,
   "id": "77013e6b",
   "metadata": {},
   "outputs": [
    {
     "name": "stdout",
     "output_type": "stream",
     "text": [
      "Fibonacci sequence:\n",
      "0  1\n",
      "0  1\n",
      "0  1\n",
      "0  1\n",
      "0  1\n",
      "0  1\n",
      "0  1\n",
      "0  1\n",
      "0  1\n",
      "0  1\n"
     ]
    }
   ],
   "source": [
    "num1, num2 = 0, 1\n",
    "\n",
    "print(\"Fibonacci sequence:\")\n",
    "for i in range(10):\n",
    "    # print next number of a series\n",
    "    print(num1, end=\"  \")\n",
    "    # add last two numbers to get next number\n",
    "    res = num1 + num2\n",
    "\n",
    "    # update values\n",
    "    num1 = num2\n",
    "    num2 = res"
   ]
  },
  {
   "cell_type": "code",
   "execution_count": 126,
   "id": "6479e17f",
   "metadata": {},
   "outputs": [
    {
     "name": "stdout",
     "output_type": "stream",
     "text": [
      "1\n",
      "2\n",
      "6\n",
      "24\n",
      "120\n",
      "720\n",
      "5040\n",
      "40320\n"
     ]
    }
   ],
   "source": [
    "n=9\n",
    "fact = 1\n",
    "for i in range(1,n):\n",
    "    fact = i*fact\n",
    "    print(fact)"
   ]
  },
  {
   "cell_type": "code",
   "execution_count": 135,
   "id": "7cc01c44",
   "metadata": {},
   "outputs": [
    {
     "name": "stdout",
     "output_type": "stream",
     "text": [
      "The factorial of 5 is 120\n"
     ]
    }
   ],
   "source": [
    "num = 5\n",
    "factorial = 1\n",
    "if num < 0:\n",
    "    print(\"Factorial does not exist for negative numbers\")\n",
    "elif num == 0:\n",
    "    print(\"The factorial of 0 is 1\")\n",
    "else:\n",
    "    # run loop 5 times\n",
    "    for i in range(1, num + 1):\n",
    "        # multiply factorial by current number\n",
    "        factorial = factorial * i\n",
    "    print(\"The factorial of\", num, \"is\", factorial)"
   ]
  },
  {
   "cell_type": "code",
   "execution_count": 162,
   "id": "206dcbec",
   "metadata": {},
   "outputs": [
    {
     "name": "stdout",
     "output_type": "stream",
     "text": [
      "2\n",
      "4\n",
      "6\n",
      "8\n",
      "we have 4 even Numbers\n"
     ]
    }
   ],
   "source": [
    "s = 0\n",
    "\n",
    "for i in range(1,10):\n",
    "    if i%2 == 0:\n",
    "        s=s +1\n",
    "        print(i)\n",
    "print(\"we have\", s, \"even Numbers\")"
   ]
  },
  {
   "cell_type": "code",
   "execution_count": 167,
   "id": "dbee4c31",
   "metadata": {},
   "outputs": [
    {
     "name": "stdout",
     "output_type": "stream",
     "text": [
      "1 is a prime\n",
      "2 is a prime\n",
      "3 is a prime\n",
      "5 is a prime\n",
      "7 is a prime\n",
      "11 is a prime\n",
      "13 is a prime\n",
      "17 is a prime\n",
      "19 is a prime\n"
     ]
    }
   ],
   "source": [
    "for i in range(1,20):\n",
    "    for j in range(2,i):\n",
    "        if (i%j==0):\n",
    "            break\n",
    "    else:\n",
    "        print(i,\"is a prime\")\n",
    "    "
   ]
  },
  {
   "cell_type": "code",
   "execution_count": 14,
   "id": "987f46bd",
   "metadata": {},
   "outputs": [
    {
     "ename": "TypeError",
     "evalue": "'int' object is not iterable",
     "output_type": "error",
     "traceback": [
      "\u001b[0;31m---------------------------------------------------------------------------\u001b[0m",
      "\u001b[0;31mTypeError\u001b[0m                                 Traceback (most recent call last)",
      "Input \u001b[0;32mIn [14]\u001b[0m, in \u001b[0;36m<cell line: 3>\u001b[0;34m()\u001b[0m\n\u001b[1;32m      1\u001b[0m l \u001b[38;5;241m=\u001b[39m [\u001b[38;5;241m10\u001b[39m, \u001b[38;5;241m20\u001b[39m, \u001b[38;5;241m30\u001b[39m, \u001b[38;5;241m40\u001b[39m, \u001b[38;5;241m50\u001b[39m, \u001b[38;5;241m60\u001b[39m, \u001b[38;5;241m70\u001b[39m, \u001b[38;5;241m80\u001b[39m, \u001b[38;5;241m90\u001b[39m, \u001b[38;5;241m100\u001b[39m]\n\u001b[1;32m      3\u001b[0m \u001b[38;5;28;01mfor\u001b[39;00m i \u001b[38;5;129;01min\u001b[39;00m l:\n\u001b[0;32m----> 4\u001b[0m     \u001b[38;5;28;01mfor\u001b[39;00m j \u001b[38;5;129;01min\u001b[39;00m i:\n\u001b[1;32m      5\u001b[0m         \u001b[38;5;28mprint\u001b[39m(l[\u001b[38;5;241m1\u001b[39m:j:\u001b[38;5;241m2\u001b[39m])\n\u001b[1;32m      6\u001b[0m         j\u001b[38;5;241m=\u001b[39mj\u001b[38;5;241m+\u001b[39m\u001b[38;5;241m1\u001b[39m\n",
      "\u001b[0;31mTypeError\u001b[0m: 'int' object is not iterable"
     ]
    }
   ],
   "source": [
    "l = [10, 20, 30, 40, 50, 60, 70, 80, 90, 100]\n",
    "\n",
    "for i in l:\n",
    "    for j in i:\n",
    "        print(l[1:j:2])\n",
    "        j=j+1\n"
   ]
  },
  {
   "cell_type": "code",
   "execution_count": 13,
   "id": "ea05d14f",
   "metadata": {},
   "outputs": [
    {
     "name": "stdout",
     "output_type": "stream",
     "text": [
      "20 40 60 80 100 "
     ]
    }
   ],
   "source": [
    "my_list = [10, 20, 30, 40, 50, 60, 70, 80, 90, 100]\n",
    "for i in my_list[1::2]:\n",
    "    print(i, end=\" \")"
   ]
  },
  {
   "cell_type": "code",
   "execution_count": 52,
   "id": "38469798",
   "metadata": {},
   "outputs": [
    {
     "name": "stdout",
     "output_type": "stream",
     "text": [
      "1\n",
      "8\n",
      "27\n",
      "64\n",
      "125\n",
      "216\n"
     ]
    }
   ],
   "source": [
    "s = 1\n",
    "for i in range(1,7):\n",
    "\n",
    "    print(i*i*i)\n",
    "   \n"
   ]
  },
  {
   "cell_type": "code",
   "execution_count": 156,
   "id": "d3647abb",
   "metadata": {},
   "outputs": [
    {
     "name": "stdout",
     "output_type": "stream",
     "text": [
      "\n",
      "* \n",
      "* * \n",
      "* * * \n",
      "* * * * \n",
      "* * * * * \n",
      "* * * * * \n",
      "* * * * \n",
      "* * * \n",
      "* * \n",
      "* \n"
     ]
    }
   ],
   "source": [
    "for i in range(0,6):\n",
    "    print(i*\"* \")\n",
    "for i in range(5,0,-1):\n",
    "    print(i*\"* \")\n",
    "\n",
    "\n",
    "  \n",
    " "
   ]
  },
  {
   "cell_type": "code",
   "execution_count": 132,
   "id": "66bd8128",
   "metadata": {},
   "outputs": [],
   "source": [
    "for i in range(0,-5):\n",
    "    print(i*\"*\")"
   ]
  },
  {
   "cell_type": "code",
   "execution_count": 110,
   "id": "0b0235b6",
   "metadata": {},
   "outputs": [
    {
     "name": "stdout",
     "output_type": "stream",
     "text": [
      "* \r\n",
      "* * \r\n",
      "* * * \r\n",
      "* * * * \r\n",
      "* * * * * \r\n",
      "* * * * \r\n",
      "* * * \r\n",
      "* * \r\n",
      "* \r\n",
      "\r\n"
     ]
    }
   ],
   "source": [
    "rows = 5\n",
    "for i in range(0, rows):\n",
    "    for j in range(0, i + 1):\n",
    "        print(\"*\", end=' ')\n",
    "    print(\"\\r\")\n",
    "\n",
    "for i in range(rows, 0, -1):\n",
    "    for j in range(0, i - 1):\n",
    "        print(\"*\", end=' ')\n",
    "    print(\"\\r\")"
   ]
  },
  {
   "cell_type": "code",
   "execution_count": 3,
   "id": "703a37ce",
   "metadata": {},
   "outputs": [
    {
     "name": "stdout",
     "output_type": "stream",
     "text": [
      "\n",
      "\n",
      "\n",
      "\n",
      "\n"
     ]
    }
   ],
   "source": [
    "for i in range(-6,-1):\n",
    "    print(i*\"*\")"
   ]
  },
  {
   "cell_type": "code",
   "execution_count": 201,
   "id": "fbf9d6b0",
   "metadata": {},
   "outputs": [
    {
     "name": "stdout",
     "output_type": "stream",
     "text": [
      "Pattern 1\n",
      "    *\n",
      "   ***\n",
      "  *****\n",
      " *******\n",
      "*********\n",
      " *******\n",
      "  *****\n",
      "   ***\n",
      "    *\n"
     ]
    }
   ],
   "source": [
    "n = 9\n",
    "print(\"Pattern 1\")\n",
    "for a1 in range(1, (n+1)//2 + 1): #from row 1 to 5\n",
    "    for a2 in range((n+1)//2 - a1):\n",
    "        print(\" \", end = \"\")\n",
    "    for a3 in range((a1*2)-1):\n",
    "        print(\"*\", end = \"\")\n",
    "    print()\n",
    "\n",
    "for a1 in range((n+1)//2 + 1, n + 1): #from row 6 to 9\n",
    "    for a2 in range(a1 - (n+1)//2):\n",
    "        print(\" \", end = \"\")\n",
    "    for a3 in range((n+1 - a1)*2 - 1):\n",
    "        print(\"*\", end = \"\")\n",
    "    print()"
   ]
  },
  {
   "cell_type": "code",
   "execution_count": 199,
   "id": "e0ebe5bb",
   "metadata": {},
   "outputs": [
    {
     "name": "stdout",
     "output_type": "stream",
     "text": [
      "1   \n",
      "1 2   \n",
      "1 2 3   \n",
      "1 2 3 4   \n",
      "1 2 3 4 5   \n",
      "1 2 3 4 5 6   \n",
      "1 2 3 4 5 6 7   \n",
      "1 2 3 4 5 6 7 8   \n",
      "1 2 3 4 5 6 7 8 9   \n"
     ]
    }
   ],
   "source": [
    "for i in range(1,10):\n",
    "    for j in range(1,i+1):\n",
    "        print(j,end=\" \")\n",
    "        \n",
    "    print(\"  \")\n"
   ]
  },
  {
   "cell_type": "code",
   "execution_count": 226,
   "id": "f39816de",
   "metadata": {},
   "outputs": [
    {
     "name": "stdout",
     "output_type": "stream",
     "text": [
      "1.5\n",
      "1.5\n",
      "1.5\n"
     ]
    }
   ],
   "source": [
    "\n",
    "n = 3\n",
    "s == 1\n",
    "\n",
    "for i in range(n):\n",
    "    if n >10:\n",
    "        break\n",
    "    else:\n",
    "        print(n/2)\n"
   ]
  },
  {
   "cell_type": "code",
   "execution_count": 229,
   "id": "2f0edbac",
   "metadata": {
    "scrolled": true
   },
   "outputs": [
    {
     "ename": "KeyboardInterrupt",
     "evalue": "Interrupted by user",
     "output_type": "error",
     "traceback": [
      "\u001b[0;31m---------------------------------------------------------------------------\u001b[0m",
      "\u001b[0;31mKeyboardInterrupt\u001b[0m                         Traceback (most recent call last)",
      "Input \u001b[0;32mIn [229]\u001b[0m, in \u001b[0;36m<cell line: 3>\u001b[0;34m()\u001b[0m\n\u001b[1;32m      1\u001b[0m s\u001b[38;5;241m=\u001b[39m\u001b[38;5;241m0\u001b[39m\n\u001b[1;32m      3\u001b[0m \u001b[38;5;28;01mfor\u001b[39;00m i \u001b[38;5;129;01min\u001b[39;00m \u001b[38;5;28mrange\u001b[39m(\u001b[38;5;241m10\u001b[39m):\n\u001b[0;32m----> 5\u001b[0m     n\u001b[38;5;241m=\u001b[39m\u001b[38;5;28mint\u001b[39m(\u001b[38;5;28;43minput\u001b[39;49m\u001b[43m(\u001b[49m\u001b[38;5;124;43m\"\u001b[39;49m\u001b[38;5;124;43mEnter number\u001b[39;49m\u001b[38;5;124;43m\"\u001b[39;49m\u001b[43m)\u001b[49m)\n\u001b[1;32m      7\u001b[0m     s\u001b[38;5;241m=\u001b[39ms\u001b[38;5;241m+\u001b[39mn\n\u001b[1;32m      9\u001b[0m \u001b[38;5;28mprint\u001b[39m(\u001b[38;5;124m\"\u001b[39m\u001b[38;5;124mAverage of 10 numbers is \u001b[39m\u001b[38;5;124m\"\u001b[39m,s\u001b[38;5;241m/\u001b[39m\u001b[38;5;241m10\u001b[39m)\n",
      "File \u001b[0;32m~/opt/anaconda3/lib/python3.9/site-packages/ipykernel/kernelbase.py:1075\u001b[0m, in \u001b[0;36mKernel.raw_input\u001b[0;34m(self, prompt)\u001b[0m\n\u001b[1;32m   1071\u001b[0m \u001b[38;5;28;01mif\u001b[39;00m \u001b[38;5;129;01mnot\u001b[39;00m \u001b[38;5;28mself\u001b[39m\u001b[38;5;241m.\u001b[39m_allow_stdin:\n\u001b[1;32m   1072\u001b[0m     \u001b[38;5;28;01mraise\u001b[39;00m StdinNotImplementedError(\n\u001b[1;32m   1073\u001b[0m         \u001b[38;5;124m\"\u001b[39m\u001b[38;5;124mraw_input was called, but this frontend does not support input requests.\u001b[39m\u001b[38;5;124m\"\u001b[39m\n\u001b[1;32m   1074\u001b[0m     )\n\u001b[0;32m-> 1075\u001b[0m \u001b[38;5;28;01mreturn\u001b[39;00m \u001b[38;5;28;43mself\u001b[39;49m\u001b[38;5;241;43m.\u001b[39;49m\u001b[43m_input_request\u001b[49m\u001b[43m(\u001b[49m\n\u001b[1;32m   1076\u001b[0m \u001b[43m    \u001b[49m\u001b[38;5;28;43mstr\u001b[39;49m\u001b[43m(\u001b[49m\u001b[43mprompt\u001b[49m\u001b[43m)\u001b[49m\u001b[43m,\u001b[49m\n\u001b[1;32m   1077\u001b[0m \u001b[43m    \u001b[49m\u001b[38;5;28;43mself\u001b[39;49m\u001b[38;5;241;43m.\u001b[39;49m\u001b[43m_parent_ident\u001b[49m\u001b[43m[\u001b[49m\u001b[38;5;124;43m\"\u001b[39;49m\u001b[38;5;124;43mshell\u001b[39;49m\u001b[38;5;124;43m\"\u001b[39;49m\u001b[43m]\u001b[49m\u001b[43m,\u001b[49m\n\u001b[1;32m   1078\u001b[0m \u001b[43m    \u001b[49m\u001b[38;5;28;43mself\u001b[39;49m\u001b[38;5;241;43m.\u001b[39;49m\u001b[43mget_parent\u001b[49m\u001b[43m(\u001b[49m\u001b[38;5;124;43m\"\u001b[39;49m\u001b[38;5;124;43mshell\u001b[39;49m\u001b[38;5;124;43m\"\u001b[39;49m\u001b[43m)\u001b[49m\u001b[43m,\u001b[49m\n\u001b[1;32m   1079\u001b[0m \u001b[43m    \u001b[49m\u001b[43mpassword\u001b[49m\u001b[38;5;241;43m=\u001b[39;49m\u001b[38;5;28;43;01mFalse\u001b[39;49;00m\u001b[43m,\u001b[49m\n\u001b[1;32m   1080\u001b[0m \u001b[43m\u001b[49m\u001b[43m)\u001b[49m\n",
      "File \u001b[0;32m~/opt/anaconda3/lib/python3.9/site-packages/ipykernel/kernelbase.py:1120\u001b[0m, in \u001b[0;36mKernel._input_request\u001b[0;34m(self, prompt, ident, parent, password)\u001b[0m\n\u001b[1;32m   1117\u001b[0m             \u001b[38;5;28;01mbreak\u001b[39;00m\n\u001b[1;32m   1118\u001b[0m \u001b[38;5;28;01mexcept\u001b[39;00m \u001b[38;5;167;01mKeyboardInterrupt\u001b[39;00m:\n\u001b[1;32m   1119\u001b[0m     \u001b[38;5;66;03m# re-raise KeyboardInterrupt, to truncate traceback\u001b[39;00m\n\u001b[0;32m-> 1120\u001b[0m     \u001b[38;5;28;01mraise\u001b[39;00m \u001b[38;5;167;01mKeyboardInterrupt\u001b[39;00m(\u001b[38;5;124m\"\u001b[39m\u001b[38;5;124mInterrupted by user\u001b[39m\u001b[38;5;124m\"\u001b[39m) \u001b[38;5;28;01mfrom\u001b[39;00m \u001b[38;5;28mNone\u001b[39m\n\u001b[1;32m   1121\u001b[0m \u001b[38;5;28;01mexcept\u001b[39;00m \u001b[38;5;167;01mException\u001b[39;00m:\n\u001b[1;32m   1122\u001b[0m     \u001b[38;5;28mself\u001b[39m\u001b[38;5;241m.\u001b[39mlog\u001b[38;5;241m.\u001b[39mwarning(\u001b[38;5;124m\"\u001b[39m\u001b[38;5;124mInvalid Message:\u001b[39m\u001b[38;5;124m\"\u001b[39m, exc_info\u001b[38;5;241m=\u001b[39m\u001b[38;5;28;01mTrue\u001b[39;00m)\n",
      "\u001b[0;31mKeyboardInterrupt\u001b[0m: Interrupted by user"
     ]
    }
   ],
   "source": [
    "s=0\n",
    "\n",
    "for i in range(10):\n",
    "\n",
    "    n=int(input(\"Enter number\"))\n",
    "\n",
    "    s=s+n\n",
    "\n",
    "print(\"Average of 10 numbers is \",s/10)"
   ]
  },
  {
   "cell_type": "markdown",
   "id": "17c9f9ea",
   "metadata": {},
   "source": [
    "for i in range(4):\n",
    "    print(i)"
   ]
  },
  {
   "cell_type": "code",
   "execution_count": 230,
   "id": "615ee6a4",
   "metadata": {},
   "outputs": [
    {
     "name": "stdout",
     "output_type": "stream",
     "text": [
      "121\n",
      "143\n",
      "165\n",
      "187\n",
      "209\n",
      "231\n",
      "253\n",
      "275\n",
      "297\n",
      "319\n",
      "341\n",
      "363\n",
      "385\n",
      "407\n",
      "429\n",
      "451\n",
      "473\n",
      "495\n"
     ]
    }
   ],
   "source": [
    "for i in range(100,501):\n",
    "    if (i%11 == 0 and i%2 !=0):\n",
    "        print(i)\n",
    "    "
   ]
  },
  {
   "cell_type": "code",
   "execution_count": 251,
   "id": "eb027d56",
   "metadata": {},
   "outputs": [
    {
     "name": "stdout",
     "output_type": "stream",
     "text": [
      "5 5 5 5 5 \n",
      "4 4 4 4 \n",
      "3 3 3 \n",
      "2 2 \n",
      "1 \n"
     ]
    }
   ],
   "source": [
    "for i in range(5,0,-1):\n",
    "    for j in range(0,i):\n",
    "        print(i,end=\" \")\n",
    "    print()"
   ]
  },
  {
   "cell_type": "code",
   "execution_count": 258,
   "id": "3e26766d",
   "metadata": {},
   "outputs": [
    {
     "name": "stdout",
     "output_type": "stream",
     "text": [
      "A B C D E F G H I J K L M N O \n"
     ]
    }
   ],
   "source": [
    "l=65\n",
    "\n",
    "for i in range(1,6):\n",
    "\n",
    "    for j in range(1,i+1):\n",
    "\n",
    "        print(chr(l),end=\" \")\n",
    "\n",
    "        l=l+1\n",
    "\n",
    "print()\n"
   ]
  },
  {
   "cell_type": "code",
   "execution_count": 2,
   "id": "76fc717d",
   "metadata": {},
   "outputs": [
    {
     "name": "stdout",
     "output_type": "stream",
     "text": [
      "0 \n",
      "0 1 \n",
      "0 1 2 \n",
      "0 1 2 3 \n"
     ]
    }
   ],
   "source": [
    "for i in range(1,5):\n",
    "    for j in range (0,i):\n",
    "        print(j, end= \" \")\n",
    "        \n",
    "    print(\"\")"
   ]
  },
  {
   "cell_type": "code",
   "execution_count": 1,
   "id": "cda0fb73",
   "metadata": {},
   "outputs": [
    {
     "ename": "NameError",
     "evalue": "name 's' is not defined",
     "output_type": "error",
     "traceback": [
      "\u001b[0;31m---------------------------------------------------------------------------\u001b[0m",
      "\u001b[0;31mNameError\u001b[0m                                 Traceback (most recent call last)",
      "Input \u001b[0;32mIn [1]\u001b[0m, in \u001b[0;36m<cell line: 4>\u001b[0;34m()\u001b[0m\n\u001b[1;32m      3\u001b[0m b \u001b[38;5;241m=\u001b[39m \u001b[38;5;241m2\u001b[39m\n\u001b[1;32m      4\u001b[0m \u001b[38;5;28;01mwhile\u001b[39;00m (i\u001b[38;5;241m<\u001b[39m\u001b[38;5;241m10\u001b[39m):\n\u001b[0;32m----> 6\u001b[0m     \u001b[38;5;28mprint\u001b[39m(\u001b[43ms\u001b[49m)\n",
      "\u001b[0;31mNameError\u001b[0m: name 's' is not defined"
     ]
    }
   ],
   "source": [
    "i=1\n",
    "a = 1\n",
    "b = 2\n",
    "while (i<10):\n",
    "    \n",
    "    print(s)"
   ]
  },
  {
   "cell_type": "code",
   "execution_count": 289,
   "id": "d93026d5",
   "metadata": {},
   "outputs": [
    {
     "ename": "SyntaxError",
     "evalue": "unmatched ')' (1016549810.py, line 2)",
     "output_type": "error",
     "traceback": [
      "\u001b[0;36m  Input \u001b[0;32mIn [289]\u001b[0;36m\u001b[0m\n\u001b[0;31m    print((i-1)*\"*\"))\u001b[0m\n\u001b[0m                    ^\u001b[0m\n\u001b[0;31mSyntaxError\u001b[0m\u001b[0;31m:\u001b[0m unmatched ')'\n"
     ]
    }
   ],
   "source": [
    "for i in range(4,8):\n",
    "    print((i-1)*\"*\"))"
   ]
  },
  {
   "cell_type": "code",
   "execution_count": null,
   "id": "3bc05ecb",
   "metadata": {},
   "outputs": [],
   "source": []
  }
 ],
 "metadata": {
  "kernelspec": {
   "display_name": "Python 3 (ipykernel)",
   "language": "python",
   "name": "python3"
  },
  "language_info": {
   "codemirror_mode": {
    "name": "ipython",
    "version": 3
   },
   "file_extension": ".py",
   "mimetype": "text/x-python",
   "name": "python",
   "nbconvert_exporter": "python",
   "pygments_lexer": "ipython3",
   "version": "3.9.12"
  }
 },
 "nbformat": 4,
 "nbformat_minor": 5
}
